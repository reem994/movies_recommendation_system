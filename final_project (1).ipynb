{
  "cells": [
    {
      "cell_type": "code",
      "execution_count": null,
      "metadata": {
        "id": "mvH5Wbna3Lzc"
      },
      "outputs": [],
      "source": [
        "import pandas as pd\n",
        "import numpy as np\n",
        "import matplotlib.pyplot as plt\n",
        "import seaborn as sns\n",
        "%matplotlib inline"
      ]
    },
    {
      "cell_type": "markdown",
      "metadata": {
        "id": "A56SkCXj3zXV"
      },
      "source": [
        "## Reading Datasets"
      ]
    },
    {
      "cell_type": "code",
      "execution_count": null,
      "metadata": {
        "colab": {
          "base_uri": "https://localhost:8080/",
          "height": 206
        },
        "id": "sJeWHCGc32Ju",
        "outputId": "8c6a1893-0820-45e7-97c5-c697236aded8"
      },
      "outputs": [
        {
          "data": {
            "text/html": [
              "\n",
              "  <div id=\"df-162d6666-bb1e-4c29-8a81-9e5559f0d1d3\">\n",
              "    <div class=\"colab-df-container\">\n",
              "      <div>\n",
              "<style scoped>\n",
              "    .dataframe tbody tr th:only-of-type {\n",
              "        vertical-align: middle;\n",
              "    }\n",
              "\n",
              "    .dataframe tbody tr th {\n",
              "        vertical-align: top;\n",
              "    }\n",
              "\n",
              "    .dataframe thead th {\n",
              "        text-align: right;\n",
              "    }\n",
              "</style>\n",
              "<table border=\"1\" class=\"dataframe\">\n",
              "  <thead>\n",
              "    <tr style=\"text-align: right;\">\n",
              "      <th></th>\n",
              "      <th>userId</th>\n",
              "      <th>movieId</th>\n",
              "      <th>rating</th>\n",
              "      <th>timestamp</th>\n",
              "    </tr>\n",
              "  </thead>\n",
              "  <tbody>\n",
              "    <tr>\n",
              "      <th>0</th>\n",
              "      <td>1</td>\n",
              "      <td>110</td>\n",
              "      <td>1.0</td>\n",
              "      <td>1425941529</td>\n",
              "    </tr>\n",
              "    <tr>\n",
              "      <th>1</th>\n",
              "      <td>1</td>\n",
              "      <td>147</td>\n",
              "      <td>4.5</td>\n",
              "      <td>1425942435</td>\n",
              "    </tr>\n",
              "    <tr>\n",
              "      <th>2</th>\n",
              "      <td>1</td>\n",
              "      <td>858</td>\n",
              "      <td>5.0</td>\n",
              "      <td>1425941523</td>\n",
              "    </tr>\n",
              "    <tr>\n",
              "      <th>3</th>\n",
              "      <td>1</td>\n",
              "      <td>1221</td>\n",
              "      <td>5.0</td>\n",
              "      <td>1425941546</td>\n",
              "    </tr>\n",
              "    <tr>\n",
              "      <th>4</th>\n",
              "      <td>1</td>\n",
              "      <td>1246</td>\n",
              "      <td>5.0</td>\n",
              "      <td>1425941556</td>\n",
              "    </tr>\n",
              "  </tbody>\n",
              "</table>\n",
              "</div>\n",
              "      <button class=\"colab-df-convert\" onclick=\"convertToInteractive('df-162d6666-bb1e-4c29-8a81-9e5559f0d1d3')\"\n",
              "              title=\"Convert this dataframe to an interactive table.\"\n",
              "              style=\"display:none;\">\n",
              "        \n",
              "  <svg xmlns=\"http://www.w3.org/2000/svg\" height=\"24px\"viewBox=\"0 0 24 24\"\n",
              "       width=\"24px\">\n",
              "    <path d=\"M0 0h24v24H0V0z\" fill=\"none\"/>\n",
              "    <path d=\"M18.56 5.44l.94 2.06.94-2.06 2.06-.94-2.06-.94-.94-2.06-.94 2.06-2.06.94zm-11 1L8.5 8.5l.94-2.06 2.06-.94-2.06-.94L8.5 2.5l-.94 2.06-2.06.94zm10 10l.94 2.06.94-2.06 2.06-.94-2.06-.94-.94-2.06-.94 2.06-2.06.94z\"/><path d=\"M17.41 7.96l-1.37-1.37c-.4-.4-.92-.59-1.43-.59-.52 0-1.04.2-1.43.59L10.3 9.45l-7.72 7.72c-.78.78-.78 2.05 0 2.83L4 21.41c.39.39.9.59 1.41.59.51 0 1.02-.2 1.41-.59l7.78-7.78 2.81-2.81c.8-.78.8-2.07 0-2.86zM5.41 20L4 18.59l7.72-7.72 1.47 1.35L5.41 20z\"/>\n",
              "  </svg>\n",
              "      </button>\n",
              "      \n",
              "  <style>\n",
              "    .colab-df-container {\n",
              "      display:flex;\n",
              "      flex-wrap:wrap;\n",
              "      gap: 12px;\n",
              "    }\n",
              "\n",
              "    .colab-df-convert {\n",
              "      background-color: #E8F0FE;\n",
              "      border: none;\n",
              "      border-radius: 50%;\n",
              "      cursor: pointer;\n",
              "      display: none;\n",
              "      fill: #1967D2;\n",
              "      height: 32px;\n",
              "      padding: 0 0 0 0;\n",
              "      width: 32px;\n",
              "    }\n",
              "\n",
              "    .colab-df-convert:hover {\n",
              "      background-color: #E2EBFA;\n",
              "      box-shadow: 0px 1px 2px rgba(60, 64, 67, 0.3), 0px 1px 3px 1px rgba(60, 64, 67, 0.15);\n",
              "      fill: #174EA6;\n",
              "    }\n",
              "\n",
              "    [theme=dark] .colab-df-convert {\n",
              "      background-color: #3B4455;\n",
              "      fill: #D2E3FC;\n",
              "    }\n",
              "\n",
              "    [theme=dark] .colab-df-convert:hover {\n",
              "      background-color: #434B5C;\n",
              "      box-shadow: 0px 1px 3px 1px rgba(0, 0, 0, 0.15);\n",
              "      filter: drop-shadow(0px 1px 2px rgba(0, 0, 0, 0.3));\n",
              "      fill: #FFFFFF;\n",
              "    }\n",
              "  </style>\n",
              "\n",
              "      <script>\n",
              "        const buttonEl =\n",
              "          document.querySelector('#df-162d6666-bb1e-4c29-8a81-9e5559f0d1d3 button.colab-df-convert');\n",
              "        buttonEl.style.display =\n",
              "          google.colab.kernel.accessAllowed ? 'block' : 'none';\n",
              "\n",
              "        async function convertToInteractive(key) {\n",
              "          const element = document.querySelector('#df-162d6666-bb1e-4c29-8a81-9e5559f0d1d3');\n",
              "          const dataTable =\n",
              "            await google.colab.kernel.invokeFunction('convertToInteractive',\n",
              "                                                     [key], {});\n",
              "          if (!dataTable) return;\n",
              "\n",
              "          const docLinkHtml = 'Like what you see? Visit the ' +\n",
              "            '<a target=\"_blank\" href=https://colab.research.google.com/notebooks/data_table.ipynb>data table notebook</a>'\n",
              "            + ' to learn more about interactive tables.';\n",
              "          element.innerHTML = '';\n",
              "          dataTable['output_type'] = 'display_data';\n",
              "          await google.colab.output.renderOutput(dataTable, element);\n",
              "          const docLink = document.createElement('div');\n",
              "          docLink.innerHTML = docLinkHtml;\n",
              "          element.appendChild(docLink);\n",
              "        }\n",
              "      </script>\n",
              "    </div>\n",
              "  </div>\n",
              "  "
            ],
            "text/plain": [
              "   userId  movieId  rating   timestamp\n",
              "0       1      110     1.0  1425941529\n",
              "1       1      147     4.5  1425942435\n",
              "2       1      858     5.0  1425941523\n",
              "3       1     1221     5.0  1425941546\n",
              "4       1     1246     5.0  1425941556"
            ]
          },
          "execution_count": 6,
          "metadata": {},
          "output_type": "execute_result"
        }
      ],
      "source": [
        "ratings = pd.read_csv(\"ratings.csv\")\n",
        "ratings.head()"
      ]
    },
    {
      "cell_type": "code",
      "execution_count": null,
      "metadata": {
        "colab": {
          "base_uri": "https://localhost:8080/",
          "height": 206
        },
        "id": "O-lO_JF14FPb",
        "outputId": "1955f894-880a-47c7-eabb-88aaf2992437"
      },
      "outputs": [
        {
          "data": {
            "text/html": [
              "\n",
              "  <div id=\"df-810713a1-f3b1-45e5-8fbf-dc3f6a8e3420\">\n",
              "    <div class=\"colab-df-container\">\n",
              "      <div>\n",
              "<style scoped>\n",
              "    .dataframe tbody tr th:only-of-type {\n",
              "        vertical-align: middle;\n",
              "    }\n",
              "\n",
              "    .dataframe tbody tr th {\n",
              "        vertical-align: top;\n",
              "    }\n",
              "\n",
              "    .dataframe thead th {\n",
              "        text-align: right;\n",
              "    }\n",
              "</style>\n",
              "<table border=\"1\" class=\"dataframe\">\n",
              "  <thead>\n",
              "    <tr style=\"text-align: right;\">\n",
              "      <th></th>\n",
              "      <th>movieId</th>\n",
              "      <th>imdbId</th>\n",
              "      <th>tmdbId</th>\n",
              "    </tr>\n",
              "  </thead>\n",
              "  <tbody>\n",
              "    <tr>\n",
              "      <th>0</th>\n",
              "      <td>1</td>\n",
              "      <td>114709</td>\n",
              "      <td>862.0</td>\n",
              "    </tr>\n",
              "    <tr>\n",
              "      <th>1</th>\n",
              "      <td>2</td>\n",
              "      <td>113497</td>\n",
              "      <td>8844.0</td>\n",
              "    </tr>\n",
              "    <tr>\n",
              "      <th>2</th>\n",
              "      <td>3</td>\n",
              "      <td>113228</td>\n",
              "      <td>15602.0</td>\n",
              "    </tr>\n",
              "    <tr>\n",
              "      <th>3</th>\n",
              "      <td>4</td>\n",
              "      <td>114885</td>\n",
              "      <td>31357.0</td>\n",
              "    </tr>\n",
              "    <tr>\n",
              "      <th>4</th>\n",
              "      <td>5</td>\n",
              "      <td>113041</td>\n",
              "      <td>11862.0</td>\n",
              "    </tr>\n",
              "  </tbody>\n",
              "</table>\n",
              "</div>\n",
              "      <button class=\"colab-df-convert\" onclick=\"convertToInteractive('df-810713a1-f3b1-45e5-8fbf-dc3f6a8e3420')\"\n",
              "              title=\"Convert this dataframe to an interactive table.\"\n",
              "              style=\"display:none;\">\n",
              "        \n",
              "  <svg xmlns=\"http://www.w3.org/2000/svg\" height=\"24px\"viewBox=\"0 0 24 24\"\n",
              "       width=\"24px\">\n",
              "    <path d=\"M0 0h24v24H0V0z\" fill=\"none\"/>\n",
              "    <path d=\"M18.56 5.44l.94 2.06.94-2.06 2.06-.94-2.06-.94-.94-2.06-.94 2.06-2.06.94zm-11 1L8.5 8.5l.94-2.06 2.06-.94-2.06-.94L8.5 2.5l-.94 2.06-2.06.94zm10 10l.94 2.06.94-2.06 2.06-.94-2.06-.94-.94-2.06-.94 2.06-2.06.94z\"/><path d=\"M17.41 7.96l-1.37-1.37c-.4-.4-.92-.59-1.43-.59-.52 0-1.04.2-1.43.59L10.3 9.45l-7.72 7.72c-.78.78-.78 2.05 0 2.83L4 21.41c.39.39.9.59 1.41.59.51 0 1.02-.2 1.41-.59l7.78-7.78 2.81-2.81c.8-.78.8-2.07 0-2.86zM5.41 20L4 18.59l7.72-7.72 1.47 1.35L5.41 20z\"/>\n",
              "  </svg>\n",
              "      </button>\n",
              "      \n",
              "  <style>\n",
              "    .colab-df-container {\n",
              "      display:flex;\n",
              "      flex-wrap:wrap;\n",
              "      gap: 12px;\n",
              "    }\n",
              "\n",
              "    .colab-df-convert {\n",
              "      background-color: #E8F0FE;\n",
              "      border: none;\n",
              "      border-radius: 50%;\n",
              "      cursor: pointer;\n",
              "      display: none;\n",
              "      fill: #1967D2;\n",
              "      height: 32px;\n",
              "      padding: 0 0 0 0;\n",
              "      width: 32px;\n",
              "    }\n",
              "\n",
              "    .colab-df-convert:hover {\n",
              "      background-color: #E2EBFA;\n",
              "      box-shadow: 0px 1px 2px rgba(60, 64, 67, 0.3), 0px 1px 3px 1px rgba(60, 64, 67, 0.15);\n",
              "      fill: #174EA6;\n",
              "    }\n",
              "\n",
              "    [theme=dark] .colab-df-convert {\n",
              "      background-color: #3B4455;\n",
              "      fill: #D2E3FC;\n",
              "    }\n",
              "\n",
              "    [theme=dark] .colab-df-convert:hover {\n",
              "      background-color: #434B5C;\n",
              "      box-shadow: 0px 1px 3px 1px rgba(0, 0, 0, 0.15);\n",
              "      filter: drop-shadow(0px 1px 2px rgba(0, 0, 0, 0.3));\n",
              "      fill: #FFFFFF;\n",
              "    }\n",
              "  </style>\n",
              "\n",
              "      <script>\n",
              "        const buttonEl =\n",
              "          document.querySelector('#df-810713a1-f3b1-45e5-8fbf-dc3f6a8e3420 button.colab-df-convert');\n",
              "        buttonEl.style.display =\n",
              "          google.colab.kernel.accessAllowed ? 'block' : 'none';\n",
              "\n",
              "        async function convertToInteractive(key) {\n",
              "          const element = document.querySelector('#df-810713a1-f3b1-45e5-8fbf-dc3f6a8e3420');\n",
              "          const dataTable =\n",
              "            await google.colab.kernel.invokeFunction('convertToInteractive',\n",
              "                                                     [key], {});\n",
              "          if (!dataTable) return;\n",
              "\n",
              "          const docLinkHtml = 'Like what you see? Visit the ' +\n",
              "            '<a target=\"_blank\" href=https://colab.research.google.com/notebooks/data_table.ipynb>data table notebook</a>'\n",
              "            + ' to learn more about interactive tables.';\n",
              "          element.innerHTML = '';\n",
              "          dataTable['output_type'] = 'display_data';\n",
              "          await google.colab.output.renderOutput(dataTable, element);\n",
              "          const docLink = document.createElement('div');\n",
              "          docLink.innerHTML = docLinkHtml;\n",
              "          element.appendChild(docLink);\n",
              "        }\n",
              "      </script>\n",
              "    </div>\n",
              "  </div>\n",
              "  "
            ],
            "text/plain": [
              "   movieId  imdbId   tmdbId\n",
              "0        1  114709    862.0\n",
              "1        2  113497   8844.0\n",
              "2        3  113228  15602.0\n",
              "3        4  114885  31357.0\n",
              "4        5  113041  11862.0"
            ]
          },
          "execution_count": 7,
          "metadata": {},
          "output_type": "execute_result"
        }
      ],
      "source": [
        "links = pd.read_csv(\"links.csv\")\n",
        "links.head()"
      ]
    },
    {
      "cell_type": "code",
      "execution_count": null,
      "metadata": {
        "colab": {
          "base_uri": "https://localhost:8080/",
          "height": 787
        },
        "id": "gwWagcuf4RLp",
        "outputId": "8e9aecfc-02e8-4d6e-8ace-32b033caae52"
      },
      "outputs": [
        {
          "name": "stderr",
          "output_type": "stream",
          "text": [
            "<ipython-input-8-3e561a49e211>:1: DtypeWarning: Columns (10) have mixed types. Specify dtype option on import or set low_memory=False.\n",
            "  movies = pd.read_csv(\"/content/drive/MyDrive/Data science diploma/Final Project/Datasets/movies/movies_metadata.csv\")\n"
          ]
        },
        {
          "data": {
            "text/html": [
              "\n",
              "  <div id=\"df-343d405e-78ec-4494-8ed1-1ba934cef2c6\">\n",
              "    <div class=\"colab-df-container\">\n",
              "      <div>\n",
              "<style scoped>\n",
              "    .dataframe tbody tr th:only-of-type {\n",
              "        vertical-align: middle;\n",
              "    }\n",
              "\n",
              "    .dataframe tbody tr th {\n",
              "        vertical-align: top;\n",
              "    }\n",
              "\n",
              "    .dataframe thead th {\n",
              "        text-align: right;\n",
              "    }\n",
              "</style>\n",
              "<table border=\"1\" class=\"dataframe\">\n",
              "  <thead>\n",
              "    <tr style=\"text-align: right;\">\n",
              "      <th></th>\n",
              "      <th>adult</th>\n",
              "      <th>belongs_to_collection</th>\n",
              "      <th>budget</th>\n",
              "      <th>genres</th>\n",
              "      <th>homepage</th>\n",
              "      <th>id</th>\n",
              "      <th>imdb_id</th>\n",
              "      <th>original_language</th>\n",
              "      <th>original_title</th>\n",
              "      <th>overview</th>\n",
              "      <th>...</th>\n",
              "      <th>release_date</th>\n",
              "      <th>revenue</th>\n",
              "      <th>runtime</th>\n",
              "      <th>spoken_languages</th>\n",
              "      <th>status</th>\n",
              "      <th>tagline</th>\n",
              "      <th>title</th>\n",
              "      <th>video</th>\n",
              "      <th>vote_average</th>\n",
              "      <th>vote_count</th>\n",
              "    </tr>\n",
              "  </thead>\n",
              "  <tbody>\n",
              "    <tr>\n",
              "      <th>0</th>\n",
              "      <td>False</td>\n",
              "      <td>{'id': 10194, 'name': 'Toy Story Collection', ...</td>\n",
              "      <td>30000000</td>\n",
              "      <td>[{'id': 16, 'name': 'Animation'}, {'id': 35, '...</td>\n",
              "      <td>http://toystory.disney.com/toy-story</td>\n",
              "      <td>862</td>\n",
              "      <td>tt0114709</td>\n",
              "      <td>en</td>\n",
              "      <td>Toy Story</td>\n",
              "      <td>Led by Woody, Andy's toys live happily in his ...</td>\n",
              "      <td>...</td>\n",
              "      <td>1995-10-30</td>\n",
              "      <td>373554033.0</td>\n",
              "      <td>81.0</td>\n",
              "      <td>[{'iso_639_1': 'en', 'name': 'English'}]</td>\n",
              "      <td>Released</td>\n",
              "      <td>NaN</td>\n",
              "      <td>Toy Story</td>\n",
              "      <td>False</td>\n",
              "      <td>7.7</td>\n",
              "      <td>5415.0</td>\n",
              "    </tr>\n",
              "    <tr>\n",
              "      <th>1</th>\n",
              "      <td>False</td>\n",
              "      <td>NaN</td>\n",
              "      <td>65000000</td>\n",
              "      <td>[{'id': 12, 'name': 'Adventure'}, {'id': 14, '...</td>\n",
              "      <td>NaN</td>\n",
              "      <td>8844</td>\n",
              "      <td>tt0113497</td>\n",
              "      <td>en</td>\n",
              "      <td>Jumanji</td>\n",
              "      <td>When siblings Judy and Peter discover an encha...</td>\n",
              "      <td>...</td>\n",
              "      <td>1995-12-15</td>\n",
              "      <td>262797249.0</td>\n",
              "      <td>104.0</td>\n",
              "      <td>[{'iso_639_1': 'en', 'name': 'English'}, {'iso...</td>\n",
              "      <td>Released</td>\n",
              "      <td>Roll the dice and unleash the excitement!</td>\n",
              "      <td>Jumanji</td>\n",
              "      <td>False</td>\n",
              "      <td>6.9</td>\n",
              "      <td>2413.0</td>\n",
              "    </tr>\n",
              "    <tr>\n",
              "      <th>2</th>\n",
              "      <td>False</td>\n",
              "      <td>{'id': 119050, 'name': 'Grumpy Old Men Collect...</td>\n",
              "      <td>0</td>\n",
              "      <td>[{'id': 10749, 'name': 'Romance'}, {'id': 35, ...</td>\n",
              "      <td>NaN</td>\n",
              "      <td>15602</td>\n",
              "      <td>tt0113228</td>\n",
              "      <td>en</td>\n",
              "      <td>Grumpier Old Men</td>\n",
              "      <td>A family wedding reignites the ancient feud be...</td>\n",
              "      <td>...</td>\n",
              "      <td>1995-12-22</td>\n",
              "      <td>0.0</td>\n",
              "      <td>101.0</td>\n",
              "      <td>[{'iso_639_1': 'en', 'name': 'English'}]</td>\n",
              "      <td>Released</td>\n",
              "      <td>Still Yelling. Still Fighting. Still Ready for...</td>\n",
              "      <td>Grumpier Old Men</td>\n",
              "      <td>False</td>\n",
              "      <td>6.5</td>\n",
              "      <td>92.0</td>\n",
              "    </tr>\n",
              "    <tr>\n",
              "      <th>3</th>\n",
              "      <td>False</td>\n",
              "      <td>NaN</td>\n",
              "      <td>16000000</td>\n",
              "      <td>[{'id': 35, 'name': 'Comedy'}, {'id': 18, 'nam...</td>\n",
              "      <td>NaN</td>\n",
              "      <td>31357</td>\n",
              "      <td>tt0114885</td>\n",
              "      <td>en</td>\n",
              "      <td>Waiting to Exhale</td>\n",
              "      <td>Cheated on, mistreated and stepped on, the wom...</td>\n",
              "      <td>...</td>\n",
              "      <td>1995-12-22</td>\n",
              "      <td>81452156.0</td>\n",
              "      <td>127.0</td>\n",
              "      <td>[{'iso_639_1': 'en', 'name': 'English'}]</td>\n",
              "      <td>Released</td>\n",
              "      <td>Friends are the people who let you be yourself...</td>\n",
              "      <td>Waiting to Exhale</td>\n",
              "      <td>False</td>\n",
              "      <td>6.1</td>\n",
              "      <td>34.0</td>\n",
              "    </tr>\n",
              "    <tr>\n",
              "      <th>4</th>\n",
              "      <td>False</td>\n",
              "      <td>{'id': 96871, 'name': 'Father of the Bride Col...</td>\n",
              "      <td>0</td>\n",
              "      <td>[{'id': 35, 'name': 'Comedy'}]</td>\n",
              "      <td>NaN</td>\n",
              "      <td>11862</td>\n",
              "      <td>tt0113041</td>\n",
              "      <td>en</td>\n",
              "      <td>Father of the Bride Part II</td>\n",
              "      <td>Just when George Banks has recovered from his ...</td>\n",
              "      <td>...</td>\n",
              "      <td>1995-02-10</td>\n",
              "      <td>76578911.0</td>\n",
              "      <td>106.0</td>\n",
              "      <td>[{'iso_639_1': 'en', 'name': 'English'}]</td>\n",
              "      <td>Released</td>\n",
              "      <td>Just When His World Is Back To Normal... He's ...</td>\n",
              "      <td>Father of the Bride Part II</td>\n",
              "      <td>False</td>\n",
              "      <td>5.7</td>\n",
              "      <td>173.0</td>\n",
              "    </tr>\n",
              "  </tbody>\n",
              "</table>\n",
              "<p>5 rows × 24 columns</p>\n",
              "</div>\n",
              "      <button class=\"colab-df-convert\" onclick=\"convertToInteractive('df-343d405e-78ec-4494-8ed1-1ba934cef2c6')\"\n",
              "              title=\"Convert this dataframe to an interactive table.\"\n",
              "              style=\"display:none;\">\n",
              "        \n",
              "  <svg xmlns=\"http://www.w3.org/2000/svg\" height=\"24px\"viewBox=\"0 0 24 24\"\n",
              "       width=\"24px\">\n",
              "    <path d=\"M0 0h24v24H0V0z\" fill=\"none\"/>\n",
              "    <path d=\"M18.56 5.44l.94 2.06.94-2.06 2.06-.94-2.06-.94-.94-2.06-.94 2.06-2.06.94zm-11 1L8.5 8.5l.94-2.06 2.06-.94-2.06-.94L8.5 2.5l-.94 2.06-2.06.94zm10 10l.94 2.06.94-2.06 2.06-.94-2.06-.94-.94-2.06-.94 2.06-2.06.94z\"/><path d=\"M17.41 7.96l-1.37-1.37c-.4-.4-.92-.59-1.43-.59-.52 0-1.04.2-1.43.59L10.3 9.45l-7.72 7.72c-.78.78-.78 2.05 0 2.83L4 21.41c.39.39.9.59 1.41.59.51 0 1.02-.2 1.41-.59l7.78-7.78 2.81-2.81c.8-.78.8-2.07 0-2.86zM5.41 20L4 18.59l7.72-7.72 1.47 1.35L5.41 20z\"/>\n",
              "  </svg>\n",
              "      </button>\n",
              "      \n",
              "  <style>\n",
              "    .colab-df-container {\n",
              "      display:flex;\n",
              "      flex-wrap:wrap;\n",
              "      gap: 12px;\n",
              "    }\n",
              "\n",
              "    .colab-df-convert {\n",
              "      background-color: #E8F0FE;\n",
              "      border: none;\n",
              "      border-radius: 50%;\n",
              "      cursor: pointer;\n",
              "      display: none;\n",
              "      fill: #1967D2;\n",
              "      height: 32px;\n",
              "      padding: 0 0 0 0;\n",
              "      width: 32px;\n",
              "    }\n",
              "\n",
              "    .colab-df-convert:hover {\n",
              "      background-color: #E2EBFA;\n",
              "      box-shadow: 0px 1px 2px rgba(60, 64, 67, 0.3), 0px 1px 3px 1px rgba(60, 64, 67, 0.15);\n",
              "      fill: #174EA6;\n",
              "    }\n",
              "\n",
              "    [theme=dark] .colab-df-convert {\n",
              "      background-color: #3B4455;\n",
              "      fill: #D2E3FC;\n",
              "    }\n",
              "\n",
              "    [theme=dark] .colab-df-convert:hover {\n",
              "      background-color: #434B5C;\n",
              "      box-shadow: 0px 1px 3px 1px rgba(0, 0, 0, 0.15);\n",
              "      filter: drop-shadow(0px 1px 2px rgba(0, 0, 0, 0.3));\n",
              "      fill: #FFFFFF;\n",
              "    }\n",
              "  </style>\n",
              "\n",
              "      <script>\n",
              "        const buttonEl =\n",
              "          document.querySelector('#df-343d405e-78ec-4494-8ed1-1ba934cef2c6 button.colab-df-convert');\n",
              "        buttonEl.style.display =\n",
              "          google.colab.kernel.accessAllowed ? 'block' : 'none';\n",
              "\n",
              "        async function convertToInteractive(key) {\n",
              "          const element = document.querySelector('#df-343d405e-78ec-4494-8ed1-1ba934cef2c6');\n",
              "          const dataTable =\n",
              "            await google.colab.kernel.invokeFunction('convertToInteractive',\n",
              "                                                     [key], {});\n",
              "          if (!dataTable) return;\n",
              "\n",
              "          const docLinkHtml = 'Like what you see? Visit the ' +\n",
              "            '<a target=\"_blank\" href=https://colab.research.google.com/notebooks/data_table.ipynb>data table notebook</a>'\n",
              "            + ' to learn more about interactive tables.';\n",
              "          element.innerHTML = '';\n",
              "          dataTable['output_type'] = 'display_data';\n",
              "          await google.colab.output.renderOutput(dataTable, element);\n",
              "          const docLink = document.createElement('div');\n",
              "          docLink.innerHTML = docLinkHtml;\n",
              "          element.appendChild(docLink);\n",
              "        }\n",
              "      </script>\n",
              "    </div>\n",
              "  </div>\n",
              "  "
            ],
            "text/plain": [
              "   adult                              belongs_to_collection    budget  \\\n",
              "0  False  {'id': 10194, 'name': 'Toy Story Collection', ...  30000000   \n",
              "1  False                                                NaN  65000000   \n",
              "2  False  {'id': 119050, 'name': 'Grumpy Old Men Collect...         0   \n",
              "3  False                                                NaN  16000000   \n",
              "4  False  {'id': 96871, 'name': 'Father of the Bride Col...         0   \n",
              "\n",
              "                                              genres  \\\n",
              "0  [{'id': 16, 'name': 'Animation'}, {'id': 35, '...   \n",
              "1  [{'id': 12, 'name': 'Adventure'}, {'id': 14, '...   \n",
              "2  [{'id': 10749, 'name': 'Romance'}, {'id': 35, ...   \n",
              "3  [{'id': 35, 'name': 'Comedy'}, {'id': 18, 'nam...   \n",
              "4                     [{'id': 35, 'name': 'Comedy'}]   \n",
              "\n",
              "                               homepage     id    imdb_id original_language  \\\n",
              "0  http://toystory.disney.com/toy-story    862  tt0114709                en   \n",
              "1                                   NaN   8844  tt0113497                en   \n",
              "2                                   NaN  15602  tt0113228                en   \n",
              "3                                   NaN  31357  tt0114885                en   \n",
              "4                                   NaN  11862  tt0113041                en   \n",
              "\n",
              "                original_title  \\\n",
              "0                    Toy Story   \n",
              "1                      Jumanji   \n",
              "2             Grumpier Old Men   \n",
              "3            Waiting to Exhale   \n",
              "4  Father of the Bride Part II   \n",
              "\n",
              "                                            overview  ... release_date  \\\n",
              "0  Led by Woody, Andy's toys live happily in his ...  ...   1995-10-30   \n",
              "1  When siblings Judy and Peter discover an encha...  ...   1995-12-15   \n",
              "2  A family wedding reignites the ancient feud be...  ...   1995-12-22   \n",
              "3  Cheated on, mistreated and stepped on, the wom...  ...   1995-12-22   \n",
              "4  Just when George Banks has recovered from his ...  ...   1995-02-10   \n",
              "\n",
              "       revenue runtime                                   spoken_languages  \\\n",
              "0  373554033.0    81.0           [{'iso_639_1': 'en', 'name': 'English'}]   \n",
              "1  262797249.0   104.0  [{'iso_639_1': 'en', 'name': 'English'}, {'iso...   \n",
              "2          0.0   101.0           [{'iso_639_1': 'en', 'name': 'English'}]   \n",
              "3   81452156.0   127.0           [{'iso_639_1': 'en', 'name': 'English'}]   \n",
              "4   76578911.0   106.0           [{'iso_639_1': 'en', 'name': 'English'}]   \n",
              "\n",
              "     status                                            tagline  \\\n",
              "0  Released                                                NaN   \n",
              "1  Released          Roll the dice and unleash the excitement!   \n",
              "2  Released  Still Yelling. Still Fighting. Still Ready for...   \n",
              "3  Released  Friends are the people who let you be yourself...   \n",
              "4  Released  Just When His World Is Back To Normal... He's ...   \n",
              "\n",
              "                         title  video vote_average vote_count  \n",
              "0                    Toy Story  False          7.7     5415.0  \n",
              "1                      Jumanji  False          6.9     2413.0  \n",
              "2             Grumpier Old Men  False          6.5       92.0  \n",
              "3            Waiting to Exhale  False          6.1       34.0  \n",
              "4  Father of the Bride Part II  False          5.7      173.0  \n",
              "\n",
              "[5 rows x 24 columns]"
            ]
          },
          "execution_count": 8,
          "metadata": {},
          "output_type": "execute_result"
        }
      ],
      "source": [
        "movies = pd.read_csv(\"movies_metadata.csv\")\n",
        "movies.head()"
      ]
    },
    {
      "cell_type": "markdown",
      "metadata": {
        "id": "v41VamJI4pg1"
      },
      "source": [
        "## Data cleaning"
      ]
    },
    {
      "cell_type": "markdown",
      "metadata": {
        "id": "upc7f40g5Afq"
      },
      "source": [
        "### Ratings Dataset"
      ]
    },
    {
      "cell_type": "code",
      "execution_count": null,
      "metadata": {
        "colab": {
          "base_uri": "https://localhost:8080/"
        },
        "id": "chFZU2xZ4Zpl",
        "outputId": "07edce61-0cc4-4478-a9ad-27384cba1577"
      },
      "outputs": [
        {
          "data": {
            "text/plain": [
              "userId       0\n",
              "movieId      0\n",
              "rating       0\n",
              "timestamp    0\n",
              "dtype: int64"
            ]
          },
          "execution_count": 6,
          "metadata": {},
          "output_type": "execute_result"
        }
      ],
      "source": [
        "ratings.isna().sum()"
      ]
    },
    {
      "cell_type": "markdown",
      "metadata": {
        "id": "h-06sYi584kh"
      },
      "source": [
        "no missing values in ratings"
      ]
    },
    {
      "cell_type": "code",
      "execution_count": null,
      "metadata": {
        "colab": {
          "base_uri": "https://localhost:8080/",
          "height": 49
        },
        "id": "R5QTKChQkBxW",
        "outputId": "21c7ffc5-e7ac-4f5c-a899-57366f78cfb2"
      },
      "outputs": [
        {
          "data": {
            "text/html": [
              "\n",
              "  <div id=\"df-4fab74e0-366e-45fe-93d8-46ab5daebc65\">\n",
              "    <div class=\"colab-df-container\">\n",
              "      <div>\n",
              "<style scoped>\n",
              "    .dataframe tbody tr th:only-of-type {\n",
              "        vertical-align: middle;\n",
              "    }\n",
              "\n",
              "    .dataframe tbody tr th {\n",
              "        vertical-align: top;\n",
              "    }\n",
              "\n",
              "    .dataframe thead th {\n",
              "        text-align: right;\n",
              "    }\n",
              "</style>\n",
              "<table border=\"1\" class=\"dataframe\">\n",
              "  <thead>\n",
              "    <tr style=\"text-align: right;\">\n",
              "      <th></th>\n",
              "      <th>userId</th>\n",
              "      <th>movieId</th>\n",
              "      <th>rating</th>\n",
              "      <th>timestamp</th>\n",
              "    </tr>\n",
              "  </thead>\n",
              "  <tbody>\n",
              "  </tbody>\n",
              "</table>\n",
              "</div>\n",
              "      <button class=\"colab-df-convert\" onclick=\"convertToInteractive('df-4fab74e0-366e-45fe-93d8-46ab5daebc65')\"\n",
              "              title=\"Convert this dataframe to an interactive table.\"\n",
              "              style=\"display:none;\">\n",
              "        \n",
              "  <svg xmlns=\"http://www.w3.org/2000/svg\" height=\"24px\"viewBox=\"0 0 24 24\"\n",
              "       width=\"24px\">\n",
              "    <path d=\"M0 0h24v24H0V0z\" fill=\"none\"/>\n",
              "    <path d=\"M18.56 5.44l.94 2.06.94-2.06 2.06-.94-2.06-.94-.94-2.06-.94 2.06-2.06.94zm-11 1L8.5 8.5l.94-2.06 2.06-.94-2.06-.94L8.5 2.5l-.94 2.06-2.06.94zm10 10l.94 2.06.94-2.06 2.06-.94-2.06-.94-.94-2.06-.94 2.06-2.06.94z\"/><path d=\"M17.41 7.96l-1.37-1.37c-.4-.4-.92-.59-1.43-.59-.52 0-1.04.2-1.43.59L10.3 9.45l-7.72 7.72c-.78.78-.78 2.05 0 2.83L4 21.41c.39.39.9.59 1.41.59.51 0 1.02-.2 1.41-.59l7.78-7.78 2.81-2.81c.8-.78.8-2.07 0-2.86zM5.41 20L4 18.59l7.72-7.72 1.47 1.35L5.41 20z\"/>\n",
              "  </svg>\n",
              "      </button>\n",
              "      \n",
              "  <style>\n",
              "    .colab-df-container {\n",
              "      display:flex;\n",
              "      flex-wrap:wrap;\n",
              "      gap: 12px;\n",
              "    }\n",
              "\n",
              "    .colab-df-convert {\n",
              "      background-color: #E8F0FE;\n",
              "      border: none;\n",
              "      border-radius: 50%;\n",
              "      cursor: pointer;\n",
              "      display: none;\n",
              "      fill: #1967D2;\n",
              "      height: 32px;\n",
              "      padding: 0 0 0 0;\n",
              "      width: 32px;\n",
              "    }\n",
              "\n",
              "    .colab-df-convert:hover {\n",
              "      background-color: #E2EBFA;\n",
              "      box-shadow: 0px 1px 2px rgba(60, 64, 67, 0.3), 0px 1px 3px 1px rgba(60, 64, 67, 0.15);\n",
              "      fill: #174EA6;\n",
              "    }\n",
              "\n",
              "    [theme=dark] .colab-df-convert {\n",
              "      background-color: #3B4455;\n",
              "      fill: #D2E3FC;\n",
              "    }\n",
              "\n",
              "    [theme=dark] .colab-df-convert:hover {\n",
              "      background-color: #434B5C;\n",
              "      box-shadow: 0px 1px 3px 1px rgba(0, 0, 0, 0.15);\n",
              "      filter: drop-shadow(0px 1px 2px rgba(0, 0, 0, 0.3));\n",
              "      fill: #FFFFFF;\n",
              "    }\n",
              "  </style>\n",
              "\n",
              "      <script>\n",
              "        const buttonEl =\n",
              "          document.querySelector('#df-4fab74e0-366e-45fe-93d8-46ab5daebc65 button.colab-df-convert');\n",
              "        buttonEl.style.display =\n",
              "          google.colab.kernel.accessAllowed ? 'block' : 'none';\n",
              "\n",
              "        async function convertToInteractive(key) {\n",
              "          const element = document.querySelector('#df-4fab74e0-366e-45fe-93d8-46ab5daebc65');\n",
              "          const dataTable =\n",
              "            await google.colab.kernel.invokeFunction('convertToInteractive',\n",
              "                                                     [key], {});\n",
              "          if (!dataTable) return;\n",
              "\n",
              "          const docLinkHtml = 'Like what you see? Visit the ' +\n",
              "            '<a target=\"_blank\" href=https://colab.research.google.com/notebooks/data_table.ipynb>data table notebook</a>'\n",
              "            + ' to learn more about interactive tables.';\n",
              "          element.innerHTML = '';\n",
              "          dataTable['output_type'] = 'display_data';\n",
              "          await google.colab.output.renderOutput(dataTable, element);\n",
              "          const docLink = document.createElement('div');\n",
              "          docLink.innerHTML = docLinkHtml;\n",
              "          element.appendChild(docLink);\n",
              "        }\n",
              "      </script>\n",
              "    </div>\n",
              "  </div>\n",
              "  "
            ],
            "text/plain": [
              "Empty DataFrame\n",
              "Columns: [userId, movieId, rating, timestamp]\n",
              "Index: []"
            ]
          },
          "execution_count": 6,
          "metadata": {},
          "output_type": "execute_result"
        }
      ],
      "source": [
        "ratings[ratings.duplicated()]"
      ]
    },
    {
      "cell_type": "markdown",
      "metadata": {
        "id": "hmiczjfM88Io"
      },
      "source": [
        "### Movies Dataset"
      ]
    },
    {
      "cell_type": "code",
      "execution_count": null,
      "metadata": {
        "id": "kHjkDE40kSwk"
      },
      "outputs": [],
      "source": [
        "movies.drop(movies[movies.duplicated()].index, inplace=True)"
      ]
    },
    {
      "cell_type": "code",
      "execution_count": null,
      "metadata": {
        "colab": {
          "base_uri": "https://localhost:8080/"
        },
        "id": "PF5Wj8DW8-Ci",
        "outputId": "367444c6-3f36-4699-d47e-8da254f45e1a"
      },
      "outputs": [
        {
          "data": {
            "text/plain": [
              "adult                     0.000000\n",
              "belongs_to_collection    90.112864\n",
              "budget                    0.000000\n",
              "genres                    0.000000\n",
              "homepage                 82.883418\n",
              "id                        0.000000\n",
              "imdb_id                   0.037401\n",
              "original_language         0.024201\n",
              "original_title            0.000000\n",
              "overview                  2.098871\n",
              "popularity                0.011000\n",
              "poster_path               0.849229\n",
              "production_companies      0.006600\n",
              "production_countries      0.006600\n",
              "release_date              0.191407\n",
              "revenue                   0.013200\n",
              "runtime                   0.578620\n",
              "spoken_languages          0.013200\n",
              "status                    0.191407\n",
              "tagline                  55.100873\n",
              "title                     0.013200\n",
              "video                     0.013200\n",
              "vote_average              0.013200\n",
              "vote_count                0.013200\n",
              "dtype: float64"
            ]
          },
          "execution_count": 11,
          "metadata": {},
          "output_type": "execute_result"
        }
      ],
      "source": [
        "movies.isna().sum() / len(movies) * 100"
      ]
    },
    {
      "cell_type": "code",
      "execution_count": null,
      "metadata": {
        "colab": {
          "base_uri": "https://localhost:8080/"
        },
        "id": "__TN-uSXcF4I",
        "outputId": "e272655b-4505-450c-eae6-137702cbbbb8"
      },
      "outputs": [
        {
          "name": "stdout",
          "output_type": "stream",
          "text": [
            "<class 'pandas.core.frame.DataFrame'>\n",
            "Int64Index: 45453 entries, 0 to 45465\n",
            "Data columns (total 24 columns):\n",
            " #   Column                 Non-Null Count  Dtype  \n",
            "---  ------                 --------------  -----  \n",
            " 0   adult                  45453 non-null  object \n",
            " 1   belongs_to_collection  4494 non-null   object \n",
            " 2   budget                 45453 non-null  object \n",
            " 3   genres                 45453 non-null  object \n",
            " 4   homepage               7780 non-null   object \n",
            " 5   id                     45453 non-null  object \n",
            " 6   imdb_id                45436 non-null  object \n",
            " 7   original_language      45442 non-null  object \n",
            " 8   original_title         45453 non-null  object \n",
            " 9   overview               44499 non-null  object \n",
            " 10  popularity             45448 non-null  object \n",
            " 11  poster_path            45067 non-null  object \n",
            " 12  production_companies   45450 non-null  object \n",
            " 13  production_countries   45450 non-null  object \n",
            " 14  release_date           45366 non-null  object \n",
            " 15  revenue                45447 non-null  float64\n",
            " 16  runtime                45190 non-null  float64\n",
            " 17  spoken_languages       45447 non-null  object \n",
            " 18  status                 45366 non-null  object \n",
            " 19  tagline                20408 non-null  object \n",
            " 20  title                  45447 non-null  object \n",
            " 21  video                  45447 non-null  object \n",
            " 22  vote_average           45447 non-null  float64\n",
            " 23  vote_count             45447 non-null  float64\n",
            "dtypes: float64(4), object(20)\n",
            "memory usage: 8.7+ MB\n"
          ]
        }
      ],
      "source": [
        "movies.info()"
      ]
    },
    {
      "cell_type": "markdown",
      "metadata": {
        "id": "tVLj51sO9EvI"
      },
      "source": [
        "Note that :\n",
        "1.   More than 90% of the data in belongs_to_collection column are missing values\n",
        "2.   Also about 82% of data in homepage are missing values.\n",
        "3. More than have of the data in column tagline are missing.\n",
        "4. Release data should be of type date.\n",
        "5. Budget and popularity should be of type float\n",
        "6. adult should be boolean\n",
        "7. id should be int type to be matching with movieId in ratings df\n",
        "\n",
        "The best practice for me is to drop belongs_to_collect , homepage and tagline columns.\n",
        "\n",
        "\n"
      ]
    },
    {
      "cell_type": "markdown",
      "metadata": {
        "id": "7wEkcLX_d0Kc"
      },
      "source": [
        "### Handling datatypes"
      ]
    },
    {
      "cell_type": "markdown",
      "metadata": {
        "id": "314GgpqqfBMB"
      },
      "source": [
        "popularity and budget columns contain string which is incompatible with the definition of the columns. In this case, we can't use astype method , instead I will change it's type manually"
      ]
    },
    {
      "cell_type": "code",
      "execution_count": null,
      "metadata": {
        "id": "pRM_g3rXd5AI"
      },
      "outputs": [],
      "source": [
        "def to_float(x):\n",
        "  try:\n",
        "    return float(x)\n",
        "  except ValueError:\n",
        "    return np.nan\n",
        "def to_bool(x):\n",
        "  try:\n",
        "    return bool(x)\n",
        "  except ValueError:\n",
        "    return np.nan \n",
        "def to_int(x):\n",
        "  try:\n",
        "    return int(x)\n",
        "  except ValueError:\n",
        "    return np.nan \n",
        "movies['popularity'] = movies['popularity'].apply(to_float)\n",
        "movies['budget'] = movies['budget'].apply(to_float)\n",
        "movies['adult'] = movies['adult'].apply(to_bool)\n",
        "movies['id'] = movies['id'].apply(to_int)"
      ]
    },
    {
      "cell_type": "code",
      "execution_count": null,
      "metadata": {
        "colab": {
          "base_uri": "https://localhost:8080/"
        },
        "id": "GnSHj2Ange1t",
        "outputId": "1a646914-10c2-4f4a-9ce0-76d4f82d71da"
      },
      "outputs": [
        {
          "name": "stdout",
          "output_type": "stream",
          "text": [
            "<class 'pandas.core.frame.DataFrame'>\n",
            "Int64Index: 45453 entries, 0 to 45465\n",
            "Data columns (total 24 columns):\n",
            " #   Column                 Non-Null Count  Dtype  \n",
            "---  ------                 --------------  -----  \n",
            " 0   adult                  45453 non-null  bool   \n",
            " 1   belongs_to_collection  4494 non-null   object \n",
            " 2   budget                 45450 non-null  float64\n",
            " 3   genres                 45453 non-null  object \n",
            " 4   homepage               7780 non-null   object \n",
            " 5   id                     45450 non-null  float64\n",
            " 6   imdb_id                45436 non-null  object \n",
            " 7   original_language      45442 non-null  object \n",
            " 8   original_title         45453 non-null  object \n",
            " 9   overview               44499 non-null  object \n",
            " 10  popularity             45447 non-null  float64\n",
            " 11  poster_path            45067 non-null  object \n",
            " 12  production_companies   45450 non-null  object \n",
            " 13  production_countries   45450 non-null  object \n",
            " 14  release_date           45366 non-null  object \n",
            " 15  revenue                45447 non-null  float64\n",
            " 16  runtime                45190 non-null  float64\n",
            " 17  spoken_languages       45447 non-null  object \n",
            " 18  status                 45366 non-null  object \n",
            " 19  tagline                20408 non-null  object \n",
            " 20  title                  45447 non-null  object \n",
            " 21  video                  45447 non-null  object \n",
            " 22  vote_average           45447 non-null  float64\n",
            " 23  vote_count             45447 non-null  float64\n",
            "dtypes: bool(1), float64(7), object(16)\n",
            "memory usage: 8.4+ MB\n"
          ]
        }
      ],
      "source": [
        "movies.info()"
      ]
    },
    {
      "cell_type": "markdown",
      "metadata": {
        "id": "pCcob3vr4y7s"
      },
      "source": [
        "### Handling Missing Values"
      ]
    },
    {
      "cell_type": "markdown",
      "metadata": {
        "id": "BsxaZyFPhAPP"
      },
      "source": [
        "let's check how many rows have budget of zero"
      ]
    },
    {
      "cell_type": "code",
      "execution_count": null,
      "metadata": {
        "colab": {
          "base_uri": "https://localhost:8080/"
        },
        "id": "y5YLg93Kgq2Z",
        "outputId": "0acc5b65-7aab-4082-9cc4-0cfd66dabdc7"
      },
      "outputs": [
        {
          "data": {
            "text/plain": [
              "80.4369348557851"
            ]
          },
          "execution_count": 15,
          "metadata": {},
          "output_type": "execute_result"
        }
      ],
      "source": [
        "len(movies[movies['budget']==0]) /len(movies) * 100"
      ]
    },
    {
      "cell_type": "markdown",
      "metadata": {
        "id": "dUCCdpjVg6F6"
      },
      "source": [
        "about 80% of column budget have unknown values , so it's better to be dropped"
      ]
    },
    {
      "cell_type": "code",
      "execution_count": null,
      "metadata": {
        "id": "bIhYL0yp9OAm"
      },
      "outputs": [],
      "source": [
        "movies.drop(['belongs_to_collection','homepage','tagline','budget'], axis = 1 , inplace=True)"
      ]
    },
    {
      "cell_type": "markdown",
      "metadata": {
        "id": "J9_9hROd_B7n"
      },
      "source": [
        "The remaining columns have missing values but not too much as the previous columns. I will avoid droping rows that have missing values which are common as the IDs of their movies are already used in ratings dataset. Instead I'll handle them by traditional way"
      ]
    },
    {
      "cell_type": "markdown",
      "metadata": {
        "id": "ngKgQcyaBEfk"
      },
      "source": [
        "there are 17 movies that their imbd_id value is missing. I found out that the imbd_value can be found in the url of the movie in imbd. In that case , I will search by the movie name in imdb and extract its id from the url."
      ]
    },
    {
      "cell_type": "code",
      "execution_count": null,
      "metadata": {
        "colab": {
          "base_uri": "https://localhost:8080/"
        },
        "id": "i9VpyyNc_u23",
        "outputId": "595cdfbc-c206-437b-9598-6756906f54af"
      },
      "outputs": [
        {
          "data": {
            "text/plain": [
              "8967                                     Dollman\n",
              "13761                        L'Aile ou la Cuisse\n",
              "13825                     Brunet wieczorową porą\n",
              "17387           Burn Notice: The Fall of Sam Axe\n",
              "17515                       Count Three and Pray\n",
              "18964                             My Blue Heaven\n",
              "19327                           Je, Tu, Il, Elle\n",
              "20811                                   Grabbers\n",
              "20942                         Deep in the Valley\n",
              "21923                                     Maniac\n",
              "22995                                 Son of God\n",
              "23753                    Guardians of the Galaxy\n",
              "33765                                      No. 2\n",
              "36967                              Il mio domani\n",
              "40822    Signed, Sealed, Delivered for Christmas\n",
              "41845                                  Maula Jat\n",
              "45083                          La fille de Brest\n",
              "Name: original_title, dtype: object"
            ]
          },
          "execution_count": 17,
          "metadata": {},
          "output_type": "execute_result"
        }
      ],
      "source": [
        "imdb_missing_id = movies[movies['imdb_id'].isna()].index\n",
        "movies.iloc[imdb_missing_id]['original_title']"
      ]
    },
    {
      "cell_type": "code",
      "execution_count": null,
      "metadata": {
        "id": "poVd9mxwBkps"
      },
      "outputs": [],
      "source": [
        "imdb_values = ['tt0101704','undefined','tt0065908','tt0818098','tt0176311','tt0490048','','tt1325753','tt0119501','tt0105298','tt0493101','tt15739684','tt4273106','tt1147516','tt0491603','tt4699464','tt6051554']\n",
        "for idx , value in enumerate(imdb_missing_id):\n",
        "  movies.at[value,'imdb_id'] = imdb_values[idx]"
      ]
    },
    {
      "cell_type": "markdown",
      "metadata": {
        "id": "YYhEN-1CjcNy"
      },
      "source": [
        "#### Filling missing values in overview, production companies and production countris column with a string "
      ]
    },
    {
      "cell_type": "code",
      "execution_count": null,
      "metadata": {
        "id": "M7ZkahUxO552"
      },
      "outputs": [],
      "source": [
        "movies['overview'].fillna(\"No description avaliable\" , inplace =True)\n",
        "movies['production_companies'].fillna(\"No description avaliable\" , inplace =True)\n",
        "movies['production_countries'].fillna(\"No description avaliable\" , inplace =True)\n",
        "movies['video'].fillna(\"No description avaliable\" , inplace =True)"
      ]
    },
    {
      "cell_type": "markdown",
      "metadata": {
        "id": "nvS68qZwjhwi"
      },
      "source": [
        "#### Using SimpleImputer to fill some columns"
      ]
    },
    {
      "cell_type": "code",
      "execution_count": null,
      "metadata": {
        "id": "tdLE-oMPNgHv"
      },
      "outputs": [],
      "source": [
        "from sklearn.impute import SimpleImputer\n",
        "\n",
        "## Filling original_language,spoken_languages and status with mode strategy\n",
        "movies['original_language'] = SimpleImputer(strategy='most_frequent').fit_transform(movies[['original_language']])\n",
        "movies['status'] = SimpleImputer(strategy='most_frequent').fit_transform(movies[['status']])\n",
        "movies['spoken_languages'] = SimpleImputer(strategy='most_frequent').fit_transform(movies[['spoken_languages']])\n",
        "\n",
        "## Filling popularity, revenue with median strategy\n",
        "movies['popularity'] = SimpleImputer(strategy='median').fit_transform(movies[['popularity']])\n",
        "movies['revenue'] = SimpleImputer(strategy='median').fit_transform(movies[['revenue']])\n"
      ]
    },
    {
      "cell_type": "markdown",
      "metadata": {
        "id": "hVqVqIfej3UR"
      },
      "source": [
        "#### handling missing values in title"
      ]
    },
    {
      "cell_type": "code",
      "execution_count": null,
      "metadata": {
        "colab": {
          "base_uri": "https://localhost:8080/"
        },
        "id": "CinXLoQok39j",
        "outputId": "195757d0-5bc1-479d-ffa4-92d678310485"
      },
      "outputs": [
        {
          "data": {
            "text/html": [
              "\n",
              "  <div id=\"df-19450479-f8b5-4e83-a158-312ea962edde\">\n",
              "    <div class=\"colab-df-container\">\n",
              "      <div>\n",
              "<style scoped>\n",
              "    .dataframe tbody tr th:only-of-type {\n",
              "        vertical-align: middle;\n",
              "    }\n",
              "\n",
              "    .dataframe tbody tr th {\n",
              "        vertical-align: top;\n",
              "    }\n",
              "\n",
              "    .dataframe thead th {\n",
              "        text-align: right;\n",
              "    }\n",
              "</style>\n",
              "<table border=\"1\" class=\"dataframe\">\n",
              "  <thead>\n",
              "    <tr style=\"text-align: right;\">\n",
              "      <th></th>\n",
              "      <th>adult</th>\n",
              "      <th>genres</th>\n",
              "      <th>id</th>\n",
              "      <th>imdb_id</th>\n",
              "      <th>original_language</th>\n",
              "      <th>original_title</th>\n",
              "      <th>overview</th>\n",
              "      <th>popularity</th>\n",
              "      <th>poster_path</th>\n",
              "      <th>production_companies</th>\n",
              "      <th>production_countries</th>\n",
              "      <th>release_date</th>\n",
              "      <th>revenue</th>\n",
              "      <th>runtime</th>\n",
              "      <th>spoken_languages</th>\n",
              "      <th>status</th>\n",
              "      <th>title</th>\n",
              "      <th>video</th>\n",
              "      <th>vote_average</th>\n",
              "      <th>vote_count</th>\n",
              "    </tr>\n",
              "  </thead>\n",
              "  <tbody>\n",
              "    <tr>\n",
              "      <th>19729</th>\n",
              "      <td>True</td>\n",
              "      <td>[{'id': 28, 'name': 'Action'}, {'id': 53, 'nam...</td>\n",
              "      <td>82663.0</td>\n",
              "      <td>tt0113002</td>\n",
              "      <td>en</td>\n",
              "      <td>Midnight Man</td>\n",
              "      <td>British soldiers force a recently captured IRA...</td>\n",
              "      <td>1.127513</td>\n",
              "      <td>NaN</td>\n",
              "      <td>No description avaliable</td>\n",
              "      <td>No description avaliable</td>\n",
              "      <td>NaN</td>\n",
              "      <td>0.0</td>\n",
              "      <td>NaN</td>\n",
              "      <td>[{'iso_639_1': 'en', 'name': 'English'}]</td>\n",
              "      <td>Released</td>\n",
              "      <td>NaN</td>\n",
              "      <td>No description avaliable</td>\n",
              "      <td>NaN</td>\n",
              "      <td>NaN</td>\n",
              "    </tr>\n",
              "    <tr>\n",
              "      <th>19730</th>\n",
              "      <td>True</td>\n",
              "      <td>[{'name': 'Carousel Productions', 'id': 11176}...</td>\n",
              "      <td>NaN</td>\n",
              "      <td>0</td>\n",
              "      <td>104.0</td>\n",
              "      <td>[{'iso_639_1': 'en', 'name': 'English'}]</td>\n",
              "      <td>Released</td>\n",
              "      <td>1.127513</td>\n",
              "      <td>Midnight Man</td>\n",
              "      <td>False</td>\n",
              "      <td>6.0</td>\n",
              "      <td>1</td>\n",
              "      <td>0.0</td>\n",
              "      <td>NaN</td>\n",
              "      <td>[{'iso_639_1': 'en', 'name': 'English'}]</td>\n",
              "      <td>Released</td>\n",
              "      <td>NaN</td>\n",
              "      <td>No description avaliable</td>\n",
              "      <td>NaN</td>\n",
              "      <td>NaN</td>\n",
              "    </tr>\n",
              "    <tr>\n",
              "      <th>29502</th>\n",
              "      <td>True</td>\n",
              "      <td>[{'id': 16, 'name': 'Animation'}, {'id': 878, ...</td>\n",
              "      <td>122662.0</td>\n",
              "      <td>tt2423504</td>\n",
              "      <td>ja</td>\n",
              "      <td>マルドゥック・スクランブル 排気</td>\n",
              "      <td>Third film of the Mardock Scramble series.</td>\n",
              "      <td>1.127513</td>\n",
              "      <td>NaN</td>\n",
              "      <td>No description avaliable</td>\n",
              "      <td>No description avaliable</td>\n",
              "      <td>NaN</td>\n",
              "      <td>0.0</td>\n",
              "      <td>NaN</td>\n",
              "      <td>[{'iso_639_1': 'en', 'name': 'English'}]</td>\n",
              "      <td>Released</td>\n",
              "      <td>NaN</td>\n",
              "      <td>No description avaliable</td>\n",
              "      <td>NaN</td>\n",
              "      <td>NaN</td>\n",
              "    </tr>\n",
              "    <tr>\n",
              "      <th>29503</th>\n",
              "      <td>True</td>\n",
              "      <td>[{'name': 'Aniplex', 'id': 2883}, {'name': 'Go...</td>\n",
              "      <td>NaN</td>\n",
              "      <td>0</td>\n",
              "      <td>68.0</td>\n",
              "      <td>[{'iso_639_1': 'ja', 'name': '日本語'}]</td>\n",
              "      <td>Released</td>\n",
              "      <td>1.127513</td>\n",
              "      <td>Mardock Scramble: The Third Exhaust</td>\n",
              "      <td>False</td>\n",
              "      <td>7.0</td>\n",
              "      <td>12</td>\n",
              "      <td>0.0</td>\n",
              "      <td>NaN</td>\n",
              "      <td>[{'iso_639_1': 'en', 'name': 'English'}]</td>\n",
              "      <td>Released</td>\n",
              "      <td>NaN</td>\n",
              "      <td>No description avaliable</td>\n",
              "      <td>NaN</td>\n",
              "      <td>NaN</td>\n",
              "    </tr>\n",
              "    <tr>\n",
              "      <th>35586</th>\n",
              "      <td>True</td>\n",
              "      <td>[{'id': 10770, 'name': 'TV Movie'}, {'id': 28,...</td>\n",
              "      <td>249260.0</td>\n",
              "      <td>tt2622826</td>\n",
              "      <td>en</td>\n",
              "      <td>Avalanche Sharks</td>\n",
              "      <td>A group of skiers are terrorized during spring...</td>\n",
              "      <td>1.127513</td>\n",
              "      <td>NaN</td>\n",
              "      <td>No description avaliable</td>\n",
              "      <td>No description avaliable</td>\n",
              "      <td>NaN</td>\n",
              "      <td>0.0</td>\n",
              "      <td>NaN</td>\n",
              "      <td>[{'iso_639_1': 'en', 'name': 'English'}]</td>\n",
              "      <td>Released</td>\n",
              "      <td>NaN</td>\n",
              "      <td>No description avaliable</td>\n",
              "      <td>NaN</td>\n",
              "      <td>NaN</td>\n",
              "    </tr>\n",
              "    <tr>\n",
              "      <th>35587</th>\n",
              "      <td>True</td>\n",
              "      <td>[{'name': 'Odyssey Media', 'id': 17161}, {'nam...</td>\n",
              "      <td>NaN</td>\n",
              "      <td>0</td>\n",
              "      <td>82.0</td>\n",
              "      <td>[{'iso_639_1': 'en', 'name': 'English'}]</td>\n",
              "      <td>Released</td>\n",
              "      <td>1.127513</td>\n",
              "      <td>Avalanche Sharks</td>\n",
              "      <td>False</td>\n",
              "      <td>4.3</td>\n",
              "      <td>22</td>\n",
              "      <td>0.0</td>\n",
              "      <td>NaN</td>\n",
              "      <td>[{'iso_639_1': 'en', 'name': 'English'}]</td>\n",
              "      <td>Released</td>\n",
              "      <td>NaN</td>\n",
              "      <td>No description avaliable</td>\n",
              "      <td>NaN</td>\n",
              "      <td>NaN</td>\n",
              "    </tr>\n",
              "  </tbody>\n",
              "</table>\n",
              "</div>\n",
              "      <button class=\"colab-df-convert\" onclick=\"convertToInteractive('df-19450479-f8b5-4e83-a158-312ea962edde')\"\n",
              "              title=\"Convert this dataframe to an interactive table.\"\n",
              "              style=\"display:none;\">\n",
              "        \n",
              "  <svg xmlns=\"http://www.w3.org/2000/svg\" height=\"24px\"viewBox=\"0 0 24 24\"\n",
              "       width=\"24px\">\n",
              "    <path d=\"M0 0h24v24H0V0z\" fill=\"none\"/>\n",
              "    <path d=\"M18.56 5.44l.94 2.06.94-2.06 2.06-.94-2.06-.94-.94-2.06-.94 2.06-2.06.94zm-11 1L8.5 8.5l.94-2.06 2.06-.94-2.06-.94L8.5 2.5l-.94 2.06-2.06.94zm10 10l.94 2.06.94-2.06 2.06-.94-2.06-.94-.94-2.06-.94 2.06-2.06.94z\"/><path d=\"M17.41 7.96l-1.37-1.37c-.4-.4-.92-.59-1.43-.59-.52 0-1.04.2-1.43.59L10.3 9.45l-7.72 7.72c-.78.78-.78 2.05 0 2.83L4 21.41c.39.39.9.59 1.41.59.51 0 1.02-.2 1.41-.59l7.78-7.78 2.81-2.81c.8-.78.8-2.07 0-2.86zM5.41 20L4 18.59l7.72-7.72 1.47 1.35L5.41 20z\"/>\n",
              "  </svg>\n",
              "      </button>\n",
              "      \n",
              "  <style>\n",
              "    .colab-df-container {\n",
              "      display:flex;\n",
              "      flex-wrap:wrap;\n",
              "      gap: 12px;\n",
              "    }\n",
              "\n",
              "    .colab-df-convert {\n",
              "      background-color: #E8F0FE;\n",
              "      border: none;\n",
              "      border-radius: 50%;\n",
              "      cursor: pointer;\n",
              "      display: none;\n",
              "      fill: #1967D2;\n",
              "      height: 32px;\n",
              "      padding: 0 0 0 0;\n",
              "      width: 32px;\n",
              "    }\n",
              "\n",
              "    .colab-df-convert:hover {\n",
              "      background-color: #E2EBFA;\n",
              "      box-shadow: 0px 1px 2px rgba(60, 64, 67, 0.3), 0px 1px 3px 1px rgba(60, 64, 67, 0.15);\n",
              "      fill: #174EA6;\n",
              "    }\n",
              "\n",
              "    [theme=dark] .colab-df-convert {\n",
              "      background-color: #3B4455;\n",
              "      fill: #D2E3FC;\n",
              "    }\n",
              "\n",
              "    [theme=dark] .colab-df-convert:hover {\n",
              "      background-color: #434B5C;\n",
              "      box-shadow: 0px 1px 3px 1px rgba(0, 0, 0, 0.15);\n",
              "      filter: drop-shadow(0px 1px 2px rgba(0, 0, 0, 0.3));\n",
              "      fill: #FFFFFF;\n",
              "    }\n",
              "  </style>\n",
              "\n",
              "      <script>\n",
              "        const buttonEl =\n",
              "          document.querySelector('#df-19450479-f8b5-4e83-a158-312ea962edde button.colab-df-convert');\n",
              "        buttonEl.style.display =\n",
              "          google.colab.kernel.accessAllowed ? 'block' : 'none';\n",
              "\n",
              "        async function convertToInteractive(key) {\n",
              "          const element = document.querySelector('#df-19450479-f8b5-4e83-a158-312ea962edde');\n",
              "          const dataTable =\n",
              "            await google.colab.kernel.invokeFunction('convertToInteractive',\n",
              "                                                     [key], {});\n",
              "          if (!dataTable) return;\n",
              "\n",
              "          const docLinkHtml = 'Like what you see? Visit the ' +\n",
              "            '<a target=\"_blank\" href=https://colab.research.google.com/notebooks/data_table.ipynb>data table notebook</a>'\n",
              "            + ' to learn more about interactive tables.';\n",
              "          element.innerHTML = '';\n",
              "          dataTable['output_type'] = 'display_data';\n",
              "          await google.colab.output.renderOutput(dataTable, element);\n",
              "          const docLink = document.createElement('div');\n",
              "          docLink.innerHTML = docLinkHtml;\n",
              "          element.appendChild(docLink);\n",
              "        }\n",
              "      </script>\n",
              "    </div>\n",
              "  </div>\n",
              "  "
            ],
            "text/plain": [
              "       adult                                             genres        id  \\\n",
              "19729   True  [{'id': 28, 'name': 'Action'}, {'id': 53, 'nam...   82663.0   \n",
              "19730   True  [{'name': 'Carousel Productions', 'id': 11176}...       NaN   \n",
              "29502   True  [{'id': 16, 'name': 'Animation'}, {'id': 878, ...  122662.0   \n",
              "29503   True  [{'name': 'Aniplex', 'id': 2883}, {'name': 'Go...       NaN   \n",
              "35586   True  [{'id': 10770, 'name': 'TV Movie'}, {'id': 28,...  249260.0   \n",
              "35587   True  [{'name': 'Odyssey Media', 'id': 17161}, {'nam...       NaN   \n",
              "\n",
              "         imdb_id original_language                            original_title  \\\n",
              "19729  tt0113002                en                              Midnight Man   \n",
              "19730          0             104.0  [{'iso_639_1': 'en', 'name': 'English'}]   \n",
              "29502  tt2423504                ja                          マルドゥック・スクランブル 排気   \n",
              "29503          0              68.0      [{'iso_639_1': 'ja', 'name': '日本語'}]   \n",
              "35586  tt2622826                en                          Avalanche Sharks   \n",
              "35587          0              82.0  [{'iso_639_1': 'en', 'name': 'English'}]   \n",
              "\n",
              "                                                overview  popularity  \\\n",
              "19729  British soldiers force a recently captured IRA...    1.127513   \n",
              "19730                                           Released    1.127513   \n",
              "29502         Third film of the Mardock Scramble series.    1.127513   \n",
              "29503                                           Released    1.127513   \n",
              "35586  A group of skiers are terrorized during spring...    1.127513   \n",
              "35587                                           Released    1.127513   \n",
              "\n",
              "                               poster_path      production_companies  \\\n",
              "19729                                  NaN  No description avaliable   \n",
              "19730                         Midnight Man                     False   \n",
              "29502                                  NaN  No description avaliable   \n",
              "29503  Mardock Scramble: The Third Exhaust                     False   \n",
              "35586                                  NaN  No description avaliable   \n",
              "35587                     Avalanche Sharks                     False   \n",
              "\n",
              "           production_countries release_date  revenue  runtime  \\\n",
              "19729  No description avaliable          NaN      0.0      NaN   \n",
              "19730                       6.0            1      0.0      NaN   \n",
              "29502  No description avaliable          NaN      0.0      NaN   \n",
              "29503                       7.0           12      0.0      NaN   \n",
              "35586  No description avaliable          NaN      0.0      NaN   \n",
              "35587                       4.3           22      0.0      NaN   \n",
              "\n",
              "                               spoken_languages    status title  \\\n",
              "19729  [{'iso_639_1': 'en', 'name': 'English'}]  Released   NaN   \n",
              "19730  [{'iso_639_1': 'en', 'name': 'English'}]  Released   NaN   \n",
              "29502  [{'iso_639_1': 'en', 'name': 'English'}]  Released   NaN   \n",
              "29503  [{'iso_639_1': 'en', 'name': 'English'}]  Released   NaN   \n",
              "35586  [{'iso_639_1': 'en', 'name': 'English'}]  Released   NaN   \n",
              "35587  [{'iso_639_1': 'en', 'name': 'English'}]  Released   NaN   \n",
              "\n",
              "                          video  vote_average  vote_count  \n",
              "19729  No description avaliable           NaN         NaN  \n",
              "19730  No description avaliable           NaN         NaN  \n",
              "29502  No description avaliable           NaN         NaN  \n",
              "29503  No description avaliable           NaN         NaN  \n",
              "35586  No description avaliable           NaN         NaN  \n",
              "35587  No description avaliable           NaN         NaN  "
            ]
          },
          "execution_count": 21,
          "metadata": {},
          "output_type": "execute_result"
        }
      ],
      "source": [
        "movies[movies['title'].isna()]"
      ]
    },
    {
      "cell_type": "markdown",
      "metadata": {
        "id": "_fWkijRIonRm"
      },
      "source": [
        "As we can see the values in the previous rows seems to be incompatiable with their columns. As a solution , I will check the whether this movie IDs have been used in ratings dataframe or not. If not, I'll drop this rows "
      ]
    },
    {
      "cell_type": "code",
      "execution_count": null,
      "metadata": {
        "colab": {
          "base_uri": "https://localhost:8080/"
        },
        "id": "38oVznCPkLdn",
        "outputId": "e7accf05-c142-476b-d731-82aefdb1925f"
      },
      "outputs": [
        {
          "name": "stdout",
          "output_type": "stream",
          "text": [
            "[0, 0, 0]\n"
          ]
        }
      ],
      "source": [
        "movieIDs = movies[movies['title'].isna()]['id'].dropna().values\n",
        "checks = []\n",
        "for id in movieIDs:\n",
        "  temp = len(ratings[ratings['movieId']==id])\n",
        "  if temp != 0:\n",
        "    checks.append(temp)\n",
        "  else:\n",
        "    checks.append(0)\n",
        "print(checks)"
      ]
    },
    {
      "cell_type": "markdown",
      "metadata": {
        "id": "eStjqA5FrO1e"
      },
      "source": [
        "now as those IDs haven't been used in ratings dataframe, we now can drop them"
      ]
    },
    {
      "cell_type": "code",
      "execution_count": null,
      "metadata": {
        "id": "aJHdDGNOrbWo"
      },
      "outputs": [],
      "source": [
        "incompatible_rows = movies[movies['title'].isna()].index\n",
        "movies.drop(incompatible_rows,axis=0,inplace=True)"
      ]
    },
    {
      "cell_type": "code",
      "execution_count": null,
      "metadata": {
        "colab": {
          "base_uri": "https://localhost:8080/"
        },
        "id": "TLH3eAZ3JqAk",
        "outputId": "8fa620d1-d512-4127-ba9c-b30d7dc12803"
      },
      "outputs": [
        {
          "data": {
            "text/plain": [
              "adult                     0\n",
              "genres                    0\n",
              "id                        0\n",
              "imdb_id                   0\n",
              "original_language         0\n",
              "original_title            0\n",
              "overview                  0\n",
              "popularity                0\n",
              "poster_path             383\n",
              "production_companies      0\n",
              "production_countries      0\n",
              "release_date             84\n",
              "revenue                   0\n",
              "runtime                 257\n",
              "spoken_languages          0\n",
              "status                    0\n",
              "title                     0\n",
              "video                     0\n",
              "vote_average              0\n",
              "vote_count                0\n",
              "dtype: int64"
            ]
          },
          "execution_count": 24,
          "metadata": {},
          "output_type": "execute_result"
        }
      ],
      "source": [
        "movies.isna().sum()"
      ]
    },
    {
      "cell_type": "markdown",
      "metadata": {
        "id": "oWz09Wq6iJuC"
      },
      "source": [
        "now we have 3 columns remaining that still contain missing value. I will handle **poster_path** column later as I am gonna change all columns values. For now, I will be handling **release_date** and **runtime** columns by web scrapping imdb."
      ]
    },
    {
      "cell_type": "markdown",
      "metadata": {
        "id": "5MAvTAlUs4gj"
      },
      "source": [
        "### Web Scraping"
      ]
    },
    {
      "cell_type": "code",
      "execution_count": null,
      "metadata": {
        "id": "GOHe48D7Lcl-"
      },
      "outputs": [],
      "source": [
        "from bs4 import BeautifulSoup\n",
        "import requests\n",
        "needed_headers = {'User-Agent': \"Mozilla/5.0 (Windows NT 6.3; Win64; x64) AppleWebKit/537.36 (KHTML, like Gecko) Chrome/92.0.4515.131 Safari/537.36\"}\n",
        "base_path = \"https://www.themoviedb.org/movie/\""
      ]
    },
    {
      "cell_type": "markdown",
      "metadata": {
        "id": "MVyKyUTdLWfr"
      },
      "source": [
        "#### Scraping runtime"
      ]
    },
    {
      "cell_type": "code",
      "execution_count": null,
      "metadata": {
        "id": "cRcfkUIRMQL6"
      },
      "outputs": [],
      "source": [
        "def get_runtime(id):\n",
        "  try:\n",
        "    res = requests.get(base_path + str(id), headers= needed_headers)\n",
        "    soup = BeautifulSoup(res.content, 'html.parser')\n",
        "    val = soup.find_all('span',attrs={\"class\":\"runtime\"})[0].get_text().strip()\n",
        "    \n",
        "    if len(val)==1:\n",
        "      if 'm' in val[0]:\n",
        "        minutes = val[0].replace('m','')\n",
        "        return float(minutes)\n",
        "      elif 'h' in val[0]:\n",
        "        hours = val[0].replace('h','')\n",
        "        minutes = float(hours)*60\n",
        "        return minutes\n",
        "    else:\n",
        "      hours , minutes = val.replace('h','').replace('m','').split(' ')\n",
        "      total_min = int(hours)*60 + int(minutes)\n",
        "      return total_min\n",
        "  except:\n",
        "    return 0  # Some movies doesn't have runtime description on tmdb website"
      ]
    },
    {
      "cell_type": "code",
      "execution_count": null,
      "metadata": {
        "id": "ttL8qZmPVRCV"
      },
      "outputs": [],
      "source": [
        "from tqdm import tqdm\n",
        "tqdm.pandas(desc=\"Processing the name column\")"
      ]
    },
    {
      "cell_type": "code",
      "execution_count": null,
      "metadata": {
        "colab": {
          "base_uri": "https://localhost:8080/"
        },
        "id": "dp7Q_KTDRXzO",
        "outputId": "bb9d8e65-733b-49a0-c8d8-63a6b47cff8d"
      },
      "outputs": [
        {
          "name": "stderr",
          "output_type": "stream",
          "text": [
            "100%|██████████| 257/257 [01:29<00:00,  2.89it/s]\n"
          ]
        }
      ],
      "source": [
        "runtime_missing_rows = movies[movies['runtime'].isna()].index\n",
        "\n",
        "for idx in tqdm(runtime_missing_rows):\n",
        "  id = movies.loc[idx , 'id']\n",
        "  total_minutes = get_runtime(id)\n",
        "  movies.at[idx , 'runtime'] = total_minutes\n",
        "\n"
      ]
    },
    {
      "cell_type": "markdown",
      "metadata": {
        "id": "PhRGW_EXk6NZ"
      },
      "source": [
        "#### Release column Data scrap"
      ]
    },
    {
      "cell_type": "code",
      "execution_count": null,
      "metadata": {
        "id": "72JRmNF8k9b7"
      },
      "outputs": [],
      "source": [
        "def get_release_date(id):\n",
        "  try:\n",
        "    res = requests.get(base_path + str(id), headers= needed_headers)\n",
        "    soup = BeautifulSoup(res.content, 'html.parser')\n",
        "    val = soup.find_all('span',attrs={\"class\":\"release\"})[0].get_text().strip().split(' ')\n",
        "    return val[0].replace('/','-')\n",
        "  except:\n",
        "    return 0  # Some movies doesn't have release data description on tmdb website"
      ]
    },
    {
      "cell_type": "code",
      "execution_count": null,
      "metadata": {
        "colab": {
          "base_uri": "https://localhost:8080/"
        },
        "id": "7oS_GQfrlKBo",
        "outputId": "2ee83dca-5245-44a1-d175-51ec580e3dda"
      },
      "outputs": [
        {
          "name": "stderr",
          "output_type": "stream",
          "text": [
            "100%|██████████| 84/84 [00:27<00:00,  3.06it/s]\n"
          ]
        }
      ],
      "source": [
        "release_missing_rows = movies[movies['release_date'].isna()].index\n",
        "\n",
        "for idx in tqdm(release_missing_rows):\n",
        "  id = movies.loc[idx , 'id']\n",
        "  dt = get_release_date(id)\n",
        "  movies.at[idx , 'release_date'] = dt\n",
        "\n"
      ]
    },
    {
      "cell_type": "markdown",
      "metadata": {
        "id": "YmY3Qm29LLcd"
      },
      "source": [
        "#### Poster_path column scraping"
      ]
    },
    {
      "cell_type": "markdown",
      "metadata": {
        "id": "HVKKJrsvF5ML"
      },
      "source": [
        "after exploring the poster_path column. I found out that the path of most images have been changed so I prefered to reconstruct the column by scraping tmdb page using the movie id."
      ]
    },
    {
      "cell_type": "code",
      "execution_count": null,
      "metadata": {
        "id": "yy5b6iGogmtY"
      },
      "outputs": [],
      "source": [
        "def poster_path(id):\n",
        "  try:\n",
        "    path =  base_path + str(id)\n",
        "    res = requests.get(path , headers=needed_headers)\n",
        "    soup = BeautifulSoup(res.content,'html.parser') \n",
        "    img = soup.find_all('img', attrs={'class': 'poster lazyload'})\n",
        "    new_path = img[0].get(\"data-srcset\").split(\"1x, \")[-1].split(\" \")[0]\n",
        "    final_path = \"https://www.themoviedb.org\" + new_path\n",
        "    print(final_path)\n",
        "    return final_path\n",
        "  except:\n",
        "    return \"https://thumbs.dreamstime.com/b/video-camera-icon-cinema-film-movie-vector-eps-195161371.jpg\" #path of unknown movie image icon"
      ]
    },
    {
      "cell_type": "code",
      "execution_count": null,
      "metadata": {
        "id": "v53TiwMvg-QP"
      },
      "outputs": [],
      "source": [
        "! pip install pandarallel"
      ]
    },
    {
      "cell_type": "code",
      "execution_count": null,
      "metadata": {
        "id": "p_KvxckiivEr"
      },
      "outputs": [],
      "source": [
        "from pandarallel import pandarallel\n",
        "pandarallel.initialize(progress_bar=True)"
      ]
    },
    {
      "cell_type": "code",
      "execution_count": null,
      "metadata": {
        "id": "cWC3s6XRC51V"
      },
      "outputs": [],
      "source": [
        "movies['poster_path'] = movies['id'].parallel_apply(poster_path)"
      ]
    },
    {
      "cell_type": "markdown",
      "metadata": {
        "id": "47wd8aC60rdX"
      },
      "source": [
        "saving clean dataset to my drive"
      ]
    },
    {
      "cell_type": "code",
      "execution_count": null,
      "metadata": {
        "id": "OZMZmlnv_zG8"
      },
      "outputs": [],
      "source": [
        "movies.to_csv(\"clean_movies_dataset2.csv\")"
      ]
    },
    {
      "cell_type": "markdown",
      "metadata": {
        "id": "ReecgmFL5JYP"
      },
      "source": [
        "### Removing duplicated movies"
      ]
    },
    {
      "cell_type": "code",
      "execution_count": null,
      "metadata": {
        "id": "oQ2WRqVA5If_"
      },
      "outputs": [],
      "source": [
        "duplicates = movies[movies.duplicated()].index\n",
        "movies.drop(duplicates , inplace=True)"
      ]
    },
    {
      "cell_type": "markdown",
      "metadata": {
        "id": "MMrjVplzCA-J"
      },
      "source": [
        "### Merge Links and Cleaned Movies Dataset"
      ]
    },
    {
      "cell_type": "markdown",
      "metadata": {
        "id": "7VdoFCv4D3Qn"
      },
      "source": [
        "Movies rated in ratings dataset includes the movie ID in movieslens website while movies_metadata dataset includes information about the movies in their IDs in TMDB website. To be able to retrieve movie rated in rating dataset, I will merge links dataset and cleaned movies dataset to add movielens movie ID along with its metadata."
      ]
    },
    {
      "cell_type": "code",
      "execution_count": null,
      "metadata": {
        "id": "QAgT8JBBCHtj"
      },
      "outputs": [],
      "source": [
        "df = links.merge(movies , left_on=\"tmdbId\",right_on='id')\n",
        "df.drop(['Unnamed: 0','imdbId'],axis=1 , inplace=True)\n",
        "\n",
        "# Save the Dataset to my drive\n",
        "df.to_csv(\"merged_movies_IDs.csv\")"
      ]
    },
    {
      "cell_type": "markdown",
      "metadata": {
        "id": "OoL7xRJ65jbM"
      },
      "source": [
        "## EDA"
      ]
    },
    {
      "cell_type": "code",
      "execution_count": null,
      "metadata": {
        "id": "eCHNHi_h5n9y"
      },
      "outputs": [],
      "source": [
        "movies = pd.read_csv(\"merged_movies_IDs.csv\")"
      ]
    },
    {
      "cell_type": "markdown",
      "metadata": {
        "id": "KrtaQcXf6Brq"
      },
      "source": [
        "#### Which movie has the most revenues?"
      ]
    },
    {
      "cell_type": "code",
      "execution_count": null,
      "metadata": {
        "colab": {
          "base_uri": "https://localhost:8080/"
        },
        "id": "x103bujh6LNq",
        "outputId": "6213ed5e-ffbc-42ef-94df-c0e7fec225e6"
      },
      "outputs": [
        {
          "name": "stdout",
          "output_type": "stream",
          "text": [
            "                                     original_title       revenue\n",
            "14599                                        Avatar  2.787965e+09\n",
            "26599                  Star Wars: The Force Awakens  2.068224e+09\n",
            "1645                                        Titanic  1.845034e+09\n",
            "17868                                  The Avengers  1.519558e+09\n",
            "25128                                Jurassic World  1.513529e+09\n",
            "28873                                     Furious 7  1.506249e+09\n",
            "26602                       Avengers: Age of Ultron  1.405404e+09\n",
            "17487  Harry Potter and the Deathly Hallows: Part 2  1.342000e+09\n",
            "22155                                        Frozen  1.274219e+09\n",
            "42253                          Beauty and the Beast  1.262886e+09\n"
          ]
        }
      ],
      "source": [
        "res = movies.sort_values(by='revenue',ascending=False)[['original_title','revenue']].iloc[:10]\n",
        "print(res)"
      ]
    },
    {
      "cell_type": "code",
      "execution_count": null,
      "metadata": {
        "colab": {
          "base_uri": "https://localhost:8080/",
          "height": 1000
        },
        "id": "isPPIQgv65ES",
        "outputId": "0c10f34b-315a-4175-e510-fe653d055b70"
      },
      "outputs": [
        {
          "data": {
            "image/png": "[encoded data removed]",
            "text/plain": [
              "<Figure size 1000x800 with 1 Axes>"
            ]
          },
          "metadata": {},
          "output_type": "display_data"
        }
      ],
      "source": [
        "plt.figure(figsize=[10,8])\n",
        "sns.barplot(x=res['original_title'],y=res['revenue'])\n",
        "plt.xticks(rotation=90)\n",
        "plt.show()"
      ]
    },
    {
      "cell_type": "markdown",
      "metadata": {
        "id": "Mp4jHlnDLFD3"
      },
      "source": [
        "#### Most Rated movies?"
      ]
    },
    {
      "cell_type": "code",
      "execution_count": null,
      "metadata": {
        "colab": {
          "base_uri": "https://localhost:8080/"
        },
        "id": "6Jur-DXMLSqj",
        "outputId": "1ebfdf71-911c-429b-acb4-ba1258deec9e"
      },
      "outputs": [
        {
          "name": "stdout",
          "output_type": "stream",
          "text": [
            "                original_title       revenue\n",
            "15527                Inception  8.255328e+08\n",
            "12519          The Dark Knight  1.004558e+09\n",
            "14599                   Avatar  2.787965e+09\n",
            "17868             The Avengers  1.519558e+09\n",
            "26608                 Deadpool  7.831130e+08\n",
            "22923             Interstellar  6.751200e+08\n",
            "20101         Django Unchained  4.253682e+08\n",
            "23795  Guardians of the Galaxy  7.733286e+08\n",
            "2852                Fight Club  1.008538e+08\n",
            "18294         The Hunger Games  6.912107e+08\n"
          ]
        }
      ],
      "source": [
        "res = movies.sort_values(by='vote_count',ascending=False)[['original_title','revenue']].iloc[:10]\n",
        "print(res)"
      ]
    },
    {
      "cell_type": "code",
      "execution_count": null,
      "metadata": {
        "colab": {
          "base_uri": "https://localhost:8080/",
          "height": 866
        },
        "id": "omsl1DtmL2nb",
        "outputId": "72393668-0111-499b-8dfb-62606fc6c1a5"
      },
      "outputs": [
        {
          "data": {
            "image/png": "[encoded data removed]",
            "text/plain": [
              "<Figure size 1000x800 with 1 Axes>"
            ]
          },
          "metadata": {},
          "output_type": "display_data"
        }
      ],
      "source": [
        "plt.figure(figsize=[10,8])\n",
        "sns.barplot(x=res['original_title'],y=res['revenue'])\n",
        "plt.xticks(rotation=90)\n",
        "plt.show()\n"
      ]
    },
    {
      "cell_type": "markdown",
      "metadata": {
        "id": "XM1PY5iJgGV1"
      },
      "source": [
        "#### relation between runtime and revenue"
      ]
    },
    {
      "cell_type": "code",
      "execution_count": null,
      "metadata": {
        "colab": {
          "base_uri": "https://localhost:8080/",
          "height": 483
        },
        "id": "hOWKqFlxgSPX",
        "outputId": "e57799df-17a3-4478-8fee-7ec36826e51e"
      },
      "outputs": [
        {
          "data": {
            "text/plain": [
              "<Axes: xlabel='runtime', ylabel='revenue'>"
            ]
          },
          "execution_count": 15,
          "metadata": {},
          "output_type": "execute_result"
        },
        {
          "data": {
            "image/png": "[encoded data removed]",
            "text/plain": [
              "<Figure size 640x480 with 1 Axes>"
            ]
          },
          "metadata": {},
          "output_type": "display_data"
        }
      ],
      "source": [
        "sns.lineplot(x=movies['runtime'],y= movies['revenue'])"
      ]
    },
    {
      "cell_type": "code",
      "execution_count": null,
      "metadata": {
        "colab": {
          "base_uri": "https://localhost:8080/"
        },
        "id": "JCgCatDYhuyg",
        "outputId": "d5a41169-0353-4f49-f2bb-d7d174151f6e"
      },
      "outputs": [
        {
          "name": "stdout",
          "output_type": "stream",
          "text": [
            "<class 'pandas.core.frame.DataFrame'>\n",
            "RangeIndex: 45494 entries, 0 to 45493\n",
            "Data columns (total 23 columns):\n",
            " #   Column                Non-Null Count  Dtype  \n",
            "---  ------                --------------  -----  \n",
            " 0   Unnamed: 0            45494 non-null  int64  \n",
            " 1   movieId               45494 non-null  int64  \n",
            " 2   tmdbId                45494 non-null  float64\n",
            " 3   adult                 45494 non-null  bool   \n",
            " 4   genres                45494 non-null  object \n",
            " 5   id                    45494 non-null  float64\n",
            " 6   imdb_id               45493 non-null  object \n",
            " 7   original_language     45494 non-null  object \n",
            " 8   original_title        45494 non-null  object \n",
            " 9   overview              45494 non-null  object \n",
            " 10  popularity            45494 non-null  float64\n",
            " 11  poster_path           45494 non-null  object \n",
            " 12  production_companies  45494 non-null  object \n",
            " 13  production_countries  45494 non-null  object \n",
            " 14  release_date          45494 non-null  object \n",
            " 15  revenue               45494 non-null  float64\n",
            " 16  runtime               45494 non-null  float64\n",
            " 17  spoken_languages      45494 non-null  object \n",
            " 18  status                45494 non-null  object \n",
            " 19  title                 45494 non-null  object \n",
            " 20  video                 45494 non-null  bool   \n",
            " 21  vote_average          45494 non-null  float64\n",
            " 22  vote_count            45494 non-null  float64\n",
            "dtypes: bool(2), float64(7), int64(2), object(12)\n",
            "memory usage: 7.4+ MB\n"
          ]
        }
      ],
      "source": [
        "movies.info()"
      ]
    },
    {
      "cell_type": "markdown",
      "metadata": {
        "id": "_QhL_4GMjg8P"
      },
      "source": [
        "#### relation between runtime and vote_average"
      ]
    },
    {
      "cell_type": "code",
      "execution_count": null,
      "metadata": {
        "colab": {
          "base_uri": "https://localhost:8080/",
          "height": 467
        },
        "id": "QUKQT0h_jg8Q",
        "outputId": "7dbbdc00-da4c-4798-963c-fb19dd0163b7"
      },
      "outputs": [
        {
          "data": {
            "text/plain": [
              "<Axes: xlabel='vote_average', ylabel='runtime'>"
            ]
          },
          "execution_count": 18,
          "metadata": {},
          "output_type": "execute_result"
        },
        {
          "data": {
            "image/png": "[encoded data removed]",
            "text/plain": [
              "<Figure size 640x480 with 1 Axes>"
            ]
          },
          "metadata": {},
          "output_type": "display_data"
        }
      ],
      "source": [
        "sns.lineplot(x=movies['vote_average'],y= movies['runtime'])"
      ]
    },
    {
      "cell_type": "markdown",
      "metadata": {
        "id": "IesHJqOimgu6"
      },
      "source": [
        "#### How many movies have been suspended?"
      ]
    },
    {
      "cell_type": "code",
      "execution_count": null,
      "metadata": {
        "colab": {
          "base_uri": "https://localhost:8080/"
        },
        "id": "A-GeF_37mue4",
        "outputId": "bcb46016-1e2a-4b55-acea-8ba8bdba23b8"
      },
      "outputs": [
        {
          "data": {
            "text/plain": [
              "Released           45129\n",
              "Rumored              230\n",
              "Post Production       98\n",
              "In Production         20\n",
              "Planned               15\n",
              "Canceled               2\n",
              "Name: status, dtype: int64"
            ]
          },
          "execution_count": 29,
          "metadata": {},
          "output_type": "execute_result"
        }
      ],
      "source": [
        "res = movies['status'].value_counts()\n"
      ]
    },
    {
      "cell_type": "code",
      "execution_count": null,
      "metadata": {
        "colab": {
          "base_uri": "https://localhost:8080/",
          "height": 770
        },
        "id": "Kz5x0LwBjg8R",
        "outputId": "40735471-be68-4806-d465-475ae08f34ef"
      },
      "outputs": [
        {
          "data": {
            "image/png": "[encoded data removed]",
            "text/plain": [
              "<Figure size 1000x800 with 1 Axes>"
            ]
          },
          "metadata": {},
          "output_type": "display_data"
        }
      ],
      "source": [
        "plt.figure(figsize=[8,8])\n",
        "sns.barplot(x=res.index,y=res.values)\n",
        "plt.xticks(rotation=90)\n",
        "plt.show()\n"
      ]
    },
    {
      "cell_type": "markdown",
      "metadata": {
        "id": "_jFd93qJoaMQ"
      },
      "source": [
        "## Data preprocessing"
      ]
    },
    {
      "cell_type": "markdown",
      "metadata": {
        "id": "Y8k2wf-XoaJJ"
      },
      "source": [
        "We will be working on rating dataset. We have about 25M rating which is a huge number So to be able to run this locally we will use only about <b> 7% </b> of the ratings samples."
      ]
    },
    {
      "cell_type": "markdown",
      "metadata": {
        "id": "1c-1uxFHpxvb"
      },
      "source": [
        "#### Getting 7% of our data randomly"
      ]
    },
    {
      "cell_type": "code",
      "execution_count": null,
      "metadata": {
        "colab": {
          "base_uri": "https://localhost:8080/"
        },
        "id": "gy2VTEReqSi6",
        "outputId": "31ac695f-bbb5-4d3e-f1ad-2ef4492c504e"
      },
      "outputs": [
        {
          "name": "stdout",
          "output_type": "stream",
          "text": [
            "<class 'pandas.core.frame.DataFrame'>\n",
            "RangeIndex: 26024289 entries, 0 to 26024288\n",
            "Data columns (total 4 columns):\n",
            " #   Column     Dtype  \n",
            "---  ------     -----  \n",
            " 0   userId     int64  \n",
            " 1   movieId    int64  \n",
            " 2   rating     float64\n",
            " 3   timestamp  int64  \n",
            "dtypes: float64(1), int64(3)\n",
            "memory usage: 794.2 MB\n"
          ]
        }
      ],
      "source": [
        "ratings.info()"
      ]
    },
    {
      "cell_type": "code",
      "execution_count": null,
      "metadata": {
        "colab": {
          "base_uri": "https://localhost:8080/",
          "height": 206
        },
        "id": "-Qm084tFpo7c",
        "outputId": "c15bb536-4b38-4158-cd6f-09d924dac7fa"
      },
      "outputs": [
        {
          "data": {
            "text/html": [
              "\n",
              "  <div id=\"df-ca14896c-d0d5-4c79-b987-03a094c129c3\">\n",
              "    <div class=\"colab-df-container\">\n",
              "      <div>\n",
              "<style scoped>\n",
              "    .dataframe tbody tr th:only-of-type {\n",
              "        vertical-align: middle;\n",
              "    }\n",
              "\n",
              "    .dataframe tbody tr th {\n",
              "        vertical-align: top;\n",
              "    }\n",
              "\n",
              "    .dataframe thead th {\n",
              "        text-align: right;\n",
              "    }\n",
              "</style>\n",
              "<table border=\"1\" class=\"dataframe\">\n",
              "  <thead>\n",
              "    <tr style=\"text-align: right;\">\n",
              "      <th></th>\n",
              "      <th>userId</th>\n",
              "      <th>movieId</th>\n",
              "      <th>rating</th>\n",
              "      <th>timestamp</th>\n",
              "    </tr>\n",
              "  </thead>\n",
              "  <tbody>\n",
              "    <tr>\n",
              "      <th>11928665</th>\n",
              "      <td>123687</td>\n",
              "      <td>163</td>\n",
              "      <td>4.0</td>\n",
              "      <td>1259948252</td>\n",
              "    </tr>\n",
              "    <tr>\n",
              "      <th>13042387</th>\n",
              "      <td>135533</td>\n",
              "      <td>55118</td>\n",
              "      <td>4.5</td>\n",
              "      <td>1451620634</td>\n",
              "    </tr>\n",
              "    <tr>\n",
              "      <th>70325</th>\n",
              "      <td>741</td>\n",
              "      <td>3499</td>\n",
              "      <td>4.0</td>\n",
              "      <td>1247359351</td>\n",
              "    </tr>\n",
              "    <tr>\n",
              "      <th>16382007</th>\n",
              "      <td>170293</td>\n",
              "      <td>2571</td>\n",
              "      <td>3.0</td>\n",
              "      <td>1438244027</td>\n",
              "    </tr>\n",
              "    <tr>\n",
              "      <th>21293077</th>\n",
              "      <td>221195</td>\n",
              "      <td>4973</td>\n",
              "      <td>4.0</td>\n",
              "      <td>1465065341</td>\n",
              "    </tr>\n",
              "  </tbody>\n",
              "</table>\n",
              "</div>\n",
              "      <button class=\"colab-df-convert\" onclick=\"convertToInteractive('df-ca14896c-d0d5-4c79-b987-03a094c129c3')\"\n",
              "              title=\"Convert this dataframe to an interactive table.\"\n",
              "              style=\"display:none;\">\n",
              "        \n",
              "  <svg xmlns=\"http://www.w3.org/2000/svg\" height=\"24px\"viewBox=\"0 0 24 24\"\n",
              "       width=\"24px\">\n",
              "    <path d=\"M0 0h24v24H0V0z\" fill=\"none\"/>\n",
              "    <path d=\"M18.56 5.44l.94 2.06.94-2.06 2.06-.94-2.06-.94-.94-2.06-.94 2.06-2.06.94zm-11 1L8.5 8.5l.94-2.06 2.06-.94-2.06-.94L8.5 2.5l-.94 2.06-2.06.94zm10 10l.94 2.06.94-2.06 2.06-.94-2.06-.94-.94-2.06-.94 2.06-2.06.94z\"/><path d=\"M17.41 7.96l-1.37-1.37c-.4-.4-.92-.59-1.43-.59-.52 0-1.04.2-1.43.59L10.3 9.45l-7.72 7.72c-.78.78-.78 2.05 0 2.83L4 21.41c.39.39.9.59 1.41.59.51 0 1.02-.2 1.41-.59l7.78-7.78 2.81-2.81c.8-.78.8-2.07 0-2.86zM5.41 20L4 18.59l7.72-7.72 1.47 1.35L5.41 20z\"/>\n",
              "  </svg>\n",
              "      </button>\n",
              "      \n",
              "  <style>\n",
              "    .colab-df-container {\n",
              "      display:flex;\n",
              "      flex-wrap:wrap;\n",
              "      gap: 12px;\n",
              "    }\n",
              "\n",
              "    .colab-df-convert {\n",
              "      background-color: #E8F0FE;\n",
              "      border: none;\n",
              "      border-radius: 50%;\n",
              "      cursor: pointer;\n",
              "      display: none;\n",
              "      fill: #1967D2;\n",
              "      height: 32px;\n",
              "      padding: 0 0 0 0;\n",
              "      width: 32px;\n",
              "    }\n",
              "\n",
              "    .colab-df-convert:hover {\n",
              "      background-color: #E2EBFA;\n",
              "      box-shadow: 0px 1px 2px rgba(60, 64, 67, 0.3), 0px 1px 3px 1px rgba(60, 64, 67, 0.15);\n",
              "      fill: #174EA6;\n",
              "    }\n",
              "\n",
              "    [theme=dark] .colab-df-convert {\n",
              "      background-color: #3B4455;\n",
              "      fill: #D2E3FC;\n",
              "    }\n",
              "\n",
              "    [theme=dark] .colab-df-convert:hover {\n",
              "      background-color: #434B5C;\n",
              "      box-shadow: 0px 1px 3px 1px rgba(0, 0, 0, 0.15);\n",
              "      filter: drop-shadow(0px 1px 2px rgba(0, 0, 0, 0.3));\n",
              "      fill: #FFFFFF;\n",
              "    }\n",
              "  </style>\n",
              "\n",
              "      <script>\n",
              "        const buttonEl =\n",
              "          document.querySelector('#df-ca14896c-d0d5-4c79-b987-03a094c129c3 button.colab-df-convert');\n",
              "        buttonEl.style.display =\n",
              "          google.colab.kernel.accessAllowed ? 'block' : 'none';\n",
              "\n",
              "        async function convertToInteractive(key) {\n",
              "          const element = document.querySelector('#df-ca14896c-d0d5-4c79-b987-03a094c129c3');\n",
              "          const dataTable =\n",
              "            await google.colab.kernel.invokeFunction('convertToInteractive',\n",
              "                                                     [key], {});\n",
              "          if (!dataTable) return;\n",
              "\n",
              "          const docLinkHtml = 'Like what you see? Visit the ' +\n",
              "            '<a target=\"_blank\" href=https://colab.research.google.com/notebooks/data_table.ipynb>data table notebook</a>'\n",
              "            + ' to learn more about interactive tables.';\n",
              "          element.innerHTML = '';\n",
              "          dataTable['output_type'] = 'display_data';\n",
              "          await google.colab.output.renderOutput(dataTable, element);\n",
              "          const docLink = document.createElement('div');\n",
              "          docLink.innerHTML = docLinkHtml;\n",
              "          element.appendChild(docLink);\n",
              "        }\n",
              "      </script>\n",
              "    </div>\n",
              "  </div>\n",
              "  "
            ],
            "text/plain": [
              "          userId  movieId  rating   timestamp\n",
              "11928665  123687      163     4.0  1259948252\n",
              "13042387  135533    55118     4.5  1451620634\n",
              "70325        741     3499     4.0  1247359351\n",
              "16382007  170293     2571     3.0  1438244027\n",
              "21293077  221195     4973     4.0  1465065341"
            ]
          },
          "execution_count": 12,
          "metadata": {},
          "output_type": "execute_result"
        }
      ],
      "source": [
        "df = ratings.sample(frac=0.07 , random_state=42)\n",
        "df.head()"
      ]
    },
    {
      "cell_type": "code",
      "execution_count": null,
      "metadata": {
        "colab": {
          "base_uri": "https://localhost:8080/"
        },
        "id": "wpXhdWrlr6xK",
        "outputId": "70058bc4-6a80-4f69-9eed-eb24826df865"
      },
      "outputs": [
        {
          "data": {
            "text/plain": [
              "(1821700, 4)"
            ]
          },
          "execution_count": 13,
          "metadata": {},
          "output_type": "execute_result"
        }
      ],
      "source": [
        "df.shape"
      ]
    },
    {
      "cell_type": "markdown",
      "metadata": {
        "id": "GQoq6P6KqPq3"
      },
      "source": [
        "as we can see, timestamp column is in int64 format. So we should transform it into datetime formate."
      ]
    },
    {
      "cell_type": "markdown",
      "metadata": {
        "id": "OP-OZ6HqqiXx"
      },
      "source": [
        "#### Change timestamp type to datetime"
      ]
    },
    {
      "cell_type": "code",
      "execution_count": null,
      "metadata": {
        "colab": {
          "base_uri": "https://localhost:8080/",
          "height": 206
        },
        "id": "0aKqItkVqhsJ",
        "outputId": "9c2310b5-ccda-4cab-ef28-bafd554205b1"
      },
      "outputs": [
        {
          "data": {
            "text/html": [
              "\n",
              "  <div id=\"df-a7ab8170-0c1b-4b10-b60f-c36204b14273\">\n",
              "    <div class=\"colab-df-container\">\n",
              "      <div>\n",
              "<style scoped>\n",
              "    .dataframe tbody tr th:only-of-type {\n",
              "        vertical-align: middle;\n",
              "    }\n",
              "\n",
              "    .dataframe tbody tr th {\n",
              "        vertical-align: top;\n",
              "    }\n",
              "\n",
              "    .dataframe thead th {\n",
              "        text-align: right;\n",
              "    }\n",
              "</style>\n",
              "<table border=\"1\" class=\"dataframe\">\n",
              "  <thead>\n",
              "    <tr style=\"text-align: right;\">\n",
              "      <th></th>\n",
              "      <th>userId</th>\n",
              "      <th>movieId</th>\n",
              "      <th>rating</th>\n",
              "      <th>timestamp</th>\n",
              "    </tr>\n",
              "  </thead>\n",
              "  <tbody>\n",
              "    <tr>\n",
              "      <th>11928665</th>\n",
              "      <td>123687</td>\n",
              "      <td>163</td>\n",
              "      <td>4.0</td>\n",
              "      <td>2009-12-04 17:37:32</td>\n",
              "    </tr>\n",
              "    <tr>\n",
              "      <th>13042387</th>\n",
              "      <td>135533</td>\n",
              "      <td>55118</td>\n",
              "      <td>4.5</td>\n",
              "      <td>2016-01-01 03:57:14</td>\n",
              "    </tr>\n",
              "    <tr>\n",
              "      <th>70325</th>\n",
              "      <td>741</td>\n",
              "      <td>3499</td>\n",
              "      <td>4.0</td>\n",
              "      <td>2009-07-12 00:42:31</td>\n",
              "    </tr>\n",
              "    <tr>\n",
              "      <th>16382007</th>\n",
              "      <td>170293</td>\n",
              "      <td>2571</td>\n",
              "      <td>3.0</td>\n",
              "      <td>2015-07-30 08:13:47</td>\n",
              "    </tr>\n",
              "    <tr>\n",
              "      <th>21293077</th>\n",
              "      <td>221195</td>\n",
              "      <td>4973</td>\n",
              "      <td>4.0</td>\n",
              "      <td>2016-06-04 18:35:41</td>\n",
              "    </tr>\n",
              "  </tbody>\n",
              "</table>\n",
              "</div>\n",
              "      <button class=\"colab-df-convert\" onclick=\"convertToInteractive('df-a7ab8170-0c1b-4b10-b60f-c36204b14273')\"\n",
              "              title=\"Convert this dataframe to an interactive table.\"\n",
              "              style=\"display:none;\">\n",
              "        \n",
              "  <svg xmlns=\"http://www.w3.org/2000/svg\" height=\"24px\"viewBox=\"0 0 24 24\"\n",
              "       width=\"24px\">\n",
              "    <path d=\"M0 0h24v24H0V0z\" fill=\"none\"/>\n",
              "    <path d=\"M18.56 5.44l.94 2.06.94-2.06 2.06-.94-2.06-.94-.94-2.06-.94 2.06-2.06.94zm-11 1L8.5 8.5l.94-2.06 2.06-.94-2.06-.94L8.5 2.5l-.94 2.06-2.06.94zm10 10l.94 2.06.94-2.06 2.06-.94-2.06-.94-.94-2.06-.94 2.06-2.06.94z\"/><path d=\"M17.41 7.96l-1.37-1.37c-.4-.4-.92-.59-1.43-.59-.52 0-1.04.2-1.43.59L10.3 9.45l-7.72 7.72c-.78.78-.78 2.05 0 2.83L4 21.41c.39.39.9.59 1.41.59.51 0 1.02-.2 1.41-.59l7.78-7.78 2.81-2.81c.8-.78.8-2.07 0-2.86zM5.41 20L4 18.59l7.72-7.72 1.47 1.35L5.41 20z\"/>\n",
              "  </svg>\n",
              "      </button>\n",
              "      \n",
              "  <style>\n",
              "    .colab-df-container {\n",
              "      display:flex;\n",
              "      flex-wrap:wrap;\n",
              "      gap: 12px;\n",
              "    }\n",
              "\n",
              "    .colab-df-convert {\n",
              "      background-color: #E8F0FE;\n",
              "      border: none;\n",
              "      border-radius: 50%;\n",
              "      cursor: pointer;\n",
              "      display: none;\n",
              "      fill: #1967D2;\n",
              "      height: 32px;\n",
              "      padding: 0 0 0 0;\n",
              "      width: 32px;\n",
              "    }\n",
              "\n",
              "    .colab-df-convert:hover {\n",
              "      background-color: #E2EBFA;\n",
              "      box-shadow: 0px 1px 2px rgba(60, 64, 67, 0.3), 0px 1px 3px 1px rgba(60, 64, 67, 0.15);\n",
              "      fill: #174EA6;\n",
              "    }\n",
              "\n",
              "    [theme=dark] .colab-df-convert {\n",
              "      background-color: #3B4455;\n",
              "      fill: #D2E3FC;\n",
              "    }\n",
              "\n",
              "    [theme=dark] .colab-df-convert:hover {\n",
              "      background-color: #434B5C;\n",
              "      box-shadow: 0px 1px 3px 1px rgba(0, 0, 0, 0.15);\n",
              "      filter: drop-shadow(0px 1px 2px rgba(0, 0, 0, 0.3));\n",
              "      fill: #FFFFFF;\n",
              "    }\n",
              "  </style>\n",
              "\n",
              "      <script>\n",
              "        const buttonEl =\n",
              "          document.querySelector('#df-a7ab8170-0c1b-4b10-b60f-c36204b14273 button.colab-df-convert');\n",
              "        buttonEl.style.display =\n",
              "          google.colab.kernel.accessAllowed ? 'block' : 'none';\n",
              "\n",
              "        async function convertToInteractive(key) {\n",
              "          const element = document.querySelector('#df-a7ab8170-0c1b-4b10-b60f-c36204b14273');\n",
              "          const dataTable =\n",
              "            await google.colab.kernel.invokeFunction('convertToInteractive',\n",
              "                                                     [key], {});\n",
              "          if (!dataTable) return;\n",
              "\n",
              "          const docLinkHtml = 'Like what you see? Visit the ' +\n",
              "            '<a target=\"_blank\" href=https://colab.research.google.com/notebooks/data_table.ipynb>data table notebook</a>'\n",
              "            + ' to learn more about interactive tables.';\n",
              "          element.innerHTML = '';\n",
              "          dataTable['output_type'] = 'display_data';\n",
              "          await google.colab.output.renderOutput(dataTable, element);\n",
              "          const docLink = document.createElement('div');\n",
              "          docLink.innerHTML = docLinkHtml;\n",
              "          element.appendChild(docLink);\n",
              "        }\n",
              "      </script>\n",
              "    </div>\n",
              "  </div>\n",
              "  "
            ],
            "text/plain": [
              "          userId  movieId  rating           timestamp\n",
              "11928665  123687      163     4.0 2009-12-04 17:37:32\n",
              "13042387  135533    55118     4.5 2016-01-01 03:57:14\n",
              "70325        741     3499     4.0 2009-07-12 00:42:31\n",
              "16382007  170293     2571     3.0 2015-07-30 08:13:47\n",
              "21293077  221195     4973     4.0 2016-06-04 18:35:41"
            ]
          },
          "execution_count": 14,
          "metadata": {},
          "output_type": "execute_result"
        }
      ],
      "source": [
        "df['timestamp'] = (pd.to_timedelta(df['timestamp'], unit='s') + pd.to_datetime('1970-1-1'))\n",
        "df.head()"
      ]
    },
    {
      "cell_type": "markdown",
      "metadata": {
        "id": "WpLUr_R_DJUn"
      },
      "source": [
        "## Train test Leave-One-Out Methedology"
      ]
    },
    {
      "cell_type": "markdown",
      "metadata": {
        "id": "4cB8Fe3h6l69"
      },
      "source": [
        "our data is clean so I will start splitting it.\n",
        "For splitting, I will be using **Leave-One-Out methedology** to split our data into train and test"
      ]
    },
    {
      "cell_type": "markdown",
      "metadata": {
        "id": "qITB6bPl_fd1"
      },
      "source": [
        "Leave-one-out is a method obtained by setting k = 1 in the leave-k-out method. Given an active user, we withhold in turn one rated item. The learning algorithm is trained on the remaining data. The withheld element is used to evaluate the correctness of the prediction and the results of all evaluations are averaged in order to compute the final quality estimate."
      ]
    },
    {
      "cell_type": "markdown",
      "metadata": {
        "id": "ns5A404HDYHA"
      },
      "source": [
        "code steps:\n",
        "1. We will group our data by userId.\n",
        "2. We will sort data in an descending order according to timestamp column.\n",
        "3. Then we will rank the data based on timestamp column. (newest column will have rank =1).\n",
        "4. Finally, The test sample for each user will be his newest rating which has its rank=1"
      ]
    },
    {
      "cell_type": "code",
      "execution_count": null,
      "metadata": {
        "colab": {
          "base_uri": "https://localhost:8080/",
          "height": 206
        },
        "id": "1BGJa4hp_9PW",
        "outputId": "5bbf37f7-8917-46d8-dc07-79beadbb8cac"
      },
      "outputs": [
        {
          "data": {
            "text/html": [
              "\n",
              "  <div id=\"df-26bb2dc4-755c-46e2-8d33-be2f467c4a3f\">\n",
              "    <div class=\"colab-df-container\">\n",
              "      <div>\n",
              "<style scoped>\n",
              "    .dataframe tbody tr th:only-of-type {\n",
              "        vertical-align: middle;\n",
              "    }\n",
              "\n",
              "    .dataframe tbody tr th {\n",
              "        vertical-align: top;\n",
              "    }\n",
              "\n",
              "    .dataframe thead th {\n",
              "        text-align: right;\n",
              "    }\n",
              "</style>\n",
              "<table border=\"1\" class=\"dataframe\">\n",
              "  <thead>\n",
              "    <tr style=\"text-align: right;\">\n",
              "      <th></th>\n",
              "      <th>userId</th>\n",
              "      <th>movieId</th>\n",
              "      <th>rating</th>\n",
              "      <th>timestamp</th>\n",
              "      <th>rank</th>\n",
              "    </tr>\n",
              "  </thead>\n",
              "  <tbody>\n",
              "    <tr>\n",
              "      <th>11928665</th>\n",
              "      <td>123687</td>\n",
              "      <td>163</td>\n",
              "      <td>4.0</td>\n",
              "      <td>2009-12-04 17:37:32</td>\n",
              "      <td>34.0</td>\n",
              "    </tr>\n",
              "    <tr>\n",
              "      <th>13042387</th>\n",
              "      <td>135533</td>\n",
              "      <td>55118</td>\n",
              "      <td>4.5</td>\n",
              "      <td>2016-01-01 03:57:14</td>\n",
              "      <td>9.0</td>\n",
              "    </tr>\n",
              "    <tr>\n",
              "      <th>70325</th>\n",
              "      <td>741</td>\n",
              "      <td>3499</td>\n",
              "      <td>4.0</td>\n",
              "      <td>2009-07-12 00:42:31</td>\n",
              "      <td>155.0</td>\n",
              "    </tr>\n",
              "    <tr>\n",
              "      <th>16382007</th>\n",
              "      <td>170293</td>\n",
              "      <td>2571</td>\n",
              "      <td>3.0</td>\n",
              "      <td>2015-07-30 08:13:47</td>\n",
              "      <td>1.0</td>\n",
              "    </tr>\n",
              "    <tr>\n",
              "      <th>21293077</th>\n",
              "      <td>221195</td>\n",
              "      <td>4973</td>\n",
              "      <td>4.0</td>\n",
              "      <td>2016-06-04 18:35:41</td>\n",
              "      <td>14.0</td>\n",
              "    </tr>\n",
              "  </tbody>\n",
              "</table>\n",
              "</div>\n",
              "      <button class=\"colab-df-convert\" onclick=\"convertToInteractive('df-26bb2dc4-755c-46e2-8d33-be2f467c4a3f')\"\n",
              "              title=\"Convert this dataframe to an interactive table.\"\n",
              "              style=\"display:none;\">\n",
              "        \n",
              "  <svg xmlns=\"http://www.w3.org/2000/svg\" height=\"24px\"viewBox=\"0 0 24 24\"\n",
              "       width=\"24px\">\n",
              "    <path d=\"M0 0h24v24H0V0z\" fill=\"none\"/>\n",
              "    <path d=\"M18.56 5.44l.94 2.06.94-2.06 2.06-.94-2.06-.94-.94-2.06-.94 2.06-2.06.94zm-11 1L8.5 8.5l.94-2.06 2.06-.94-2.06-.94L8.5 2.5l-.94 2.06-2.06.94zm10 10l.94 2.06.94-2.06 2.06-.94-2.06-.94-.94-2.06-.94 2.06-2.06.94z\"/><path d=\"M17.41 7.96l-1.37-1.37c-.4-.4-.92-.59-1.43-.59-.52 0-1.04.2-1.43.59L10.3 9.45l-7.72 7.72c-.78.78-.78 2.05 0 2.83L4 21.41c.39.39.9.59 1.41.59.51 0 1.02-.2 1.41-.59l7.78-7.78 2.81-2.81c.8-.78.8-2.07 0-2.86zM5.41 20L4 18.59l7.72-7.72 1.47 1.35L5.41 20z\"/>\n",
              "  </svg>\n",
              "      </button>\n",
              "      \n",
              "  <style>\n",
              "    .colab-df-container {\n",
              "      display:flex;\n",
              "      flex-wrap:wrap;\n",
              "      gap: 12px;\n",
              "    }\n",
              "\n",
              "    .colab-df-convert {\n",
              "      background-color: #E8F0FE;\n",
              "      border: none;\n",
              "      border-radius: 50%;\n",
              "      cursor: pointer;\n",
              "      display: none;\n",
              "      fill: #1967D2;\n",
              "      height: 32px;\n",
              "      padding: 0 0 0 0;\n",
              "      width: 32px;\n",
              "    }\n",
              "\n",
              "    .colab-df-convert:hover {\n",
              "      background-color: #E2EBFA;\n",
              "      box-shadow: 0px 1px 2px rgba(60, 64, 67, 0.3), 0px 1px 3px 1px rgba(60, 64, 67, 0.15);\n",
              "      fill: #174EA6;\n",
              "    }\n",
              "\n",
              "    [theme=dark] .colab-df-convert {\n",
              "      background-color: #3B4455;\n",
              "      fill: #D2E3FC;\n",
              "    }\n",
              "\n",
              "    [theme=dark] .colab-df-convert:hover {\n",
              "      background-color: #434B5C;\n",
              "      box-shadow: 0px 1px 3px 1px rgba(0, 0, 0, 0.15);\n",
              "      filter: drop-shadow(0px 1px 2px rgba(0, 0, 0, 0.3));\n",
              "      fill: #FFFFFF;\n",
              "    }\n",
              "  </style>\n",
              "\n",
              "      <script>\n",
              "        const buttonEl =\n",
              "          document.querySelector('#df-26bb2dc4-755c-46e2-8d33-be2f467c4a3f button.colab-df-convert');\n",
              "        buttonEl.style.display =\n",
              "          google.colab.kernel.accessAllowed ? 'block' : 'none';\n",
              "\n",
              "        async function convertToInteractive(key) {\n",
              "          const element = document.querySelector('#df-26bb2dc4-755c-46e2-8d33-be2f467c4a3f');\n",
              "          const dataTable =\n",
              "            await google.colab.kernel.invokeFunction('convertToInteractive',\n",
              "                                                     [key], {});\n",
              "          if (!dataTable) return;\n",
              "\n",
              "          const docLinkHtml = 'Like what you see? Visit the ' +\n",
              "            '<a target=\"_blank\" href=https://colab.research.google.com/notebooks/data_table.ipynb>data table notebook</a>'\n",
              "            + ' to learn more about interactive tables.';\n",
              "          element.innerHTML = '';\n",
              "          dataTable['output_type'] = 'display_data';\n",
              "          await google.colab.output.renderOutput(dataTable, element);\n",
              "          const docLink = document.createElement('div');\n",
              "          docLink.innerHTML = docLinkHtml;\n",
              "          element.appendChild(docLink);\n",
              "        }\n",
              "      </script>\n",
              "    </div>\n",
              "  </div>\n",
              "  "
            ],
            "text/plain": [
              "          userId  movieId  rating           timestamp   rank\n",
              "11928665  123687      163     4.0 2009-12-04 17:37:32   34.0\n",
              "13042387  135533    55118     4.5 2016-01-01 03:57:14    9.0\n",
              "70325        741     3499     4.0 2009-07-12 00:42:31  155.0\n",
              "16382007  170293     2571     3.0 2015-07-30 08:13:47    1.0\n",
              "21293077  221195     4973     4.0 2016-06-04 18:35:41   14.0"
            ]
          },
          "execution_count": 15,
          "metadata": {},
          "output_type": "execute_result"
        }
      ],
      "source": [
        "df['rank'] = df.groupby('userId')['timestamp'].rank(method='first', ascending=False)\n",
        "df.head()"
      ]
    },
    {
      "cell_type": "code",
      "execution_count": null,
      "metadata": {
        "id": "5E1LalZrE_4y"
      },
      "outputs": [],
      "source": [
        "train = df[df['rank'] !=1].drop(['rank','timestamp'],axis=1)\n",
        "test = df[df['rank'] ==1].drop(['rank','timestamp'],axis=1)"
      ]
    },
    {
      "cell_type": "markdown",
      "metadata": {
        "id": "u6DJu-BA9ACH"
      },
      "source": [
        "#### Save train and test data"
      ]
    },
    {
      "cell_type": "code",
      "execution_count": null,
      "metadata": {
        "id": "G3dyIrIb9DZS"
      },
      "outputs": [],
      "source": [
        "train.to_csv(\"train.csv\")\n",
        "test.to_csv(\"test.csv\")"
      ]
    },
    {
      "cell_type": "code",
      "execution_count": null,
      "metadata": {
        "colab": {
          "base_uri": "https://localhost:8080/",
          "height": 206
        },
        "id": "Lf98eZBCFVmq",
        "outputId": "27c00ff4-f431-426f-838c-0027ae880552"
      },
      "outputs": [
        {
          "data": {
            "text/html": [
              "\n",
              "  <div id=\"df-f61545d3-92e3-4839-842d-326eff374c32\">\n",
              "    <div class=\"colab-df-container\">\n",
              "      <div>\n",
              "<style scoped>\n",
              "    .dataframe tbody tr th:only-of-type {\n",
              "        vertical-align: middle;\n",
              "    }\n",
              "\n",
              "    .dataframe tbody tr th {\n",
              "        vertical-align: top;\n",
              "    }\n",
              "\n",
              "    .dataframe thead th {\n",
              "        text-align: right;\n",
              "    }\n",
              "</style>\n",
              "<table border=\"1\" class=\"dataframe\">\n",
              "  <thead>\n",
              "    <tr style=\"text-align: right;\">\n",
              "      <th></th>\n",
              "      <th>userId</th>\n",
              "      <th>movieId</th>\n",
              "      <th>rating</th>\n",
              "    </tr>\n",
              "  </thead>\n",
              "  <tbody>\n",
              "    <tr>\n",
              "      <th>11928665</th>\n",
              "      <td>123687</td>\n",
              "      <td>163</td>\n",
              "      <td>4.0</td>\n",
              "    </tr>\n",
              "    <tr>\n",
              "      <th>13042387</th>\n",
              "      <td>135533</td>\n",
              "      <td>55118</td>\n",
              "      <td>4.5</td>\n",
              "    </tr>\n",
              "    <tr>\n",
              "      <th>70325</th>\n",
              "      <td>741</td>\n",
              "      <td>3499</td>\n",
              "      <td>4.0</td>\n",
              "    </tr>\n",
              "    <tr>\n",
              "      <th>21293077</th>\n",
              "      <td>221195</td>\n",
              "      <td>4973</td>\n",
              "      <td>4.0</td>\n",
              "    </tr>\n",
              "    <tr>\n",
              "      <th>5265200</th>\n",
              "      <td>54247</td>\n",
              "      <td>56286</td>\n",
              "      <td>3.0</td>\n",
              "    </tr>\n",
              "  </tbody>\n",
              "</table>\n",
              "</div>\n",
              "      <button class=\"colab-df-convert\" onclick=\"convertToInteractive('df-f61545d3-92e3-4839-842d-326eff374c32')\"\n",
              "              title=\"Convert this dataframe to an interactive table.\"\n",
              "              style=\"display:none;\">\n",
              "        \n",
              "  <svg xmlns=\"http://www.w3.org/2000/svg\" height=\"24px\"viewBox=\"0 0 24 24\"\n",
              "       width=\"24px\">\n",
              "    <path d=\"M0 0h24v24H0V0z\" fill=\"none\"/>\n",
              "    <path d=\"M18.56 5.44l.94 2.06.94-2.06 2.06-.94-2.06-.94-.94-2.06-.94 2.06-2.06.94zm-11 1L8.5 8.5l.94-2.06 2.06-.94-2.06-.94L8.5 2.5l-.94 2.06-2.06.94zm10 10l.94 2.06.94-2.06 2.06-.94-2.06-.94-.94-2.06-.94 2.06-2.06.94z\"/><path d=\"M17.41 7.96l-1.37-1.37c-.4-.4-.92-.59-1.43-.59-.52 0-1.04.2-1.43.59L10.3 9.45l-7.72 7.72c-.78.78-.78 2.05 0 2.83L4 21.41c.39.39.9.59 1.41.59.51 0 1.02-.2 1.41-.59l7.78-7.78 2.81-2.81c.8-.78.8-2.07 0-2.86zM5.41 20L4 18.59l7.72-7.72 1.47 1.35L5.41 20z\"/>\n",
              "  </svg>\n",
              "      </button>\n",
              "      \n",
              "  <style>\n",
              "    .colab-df-container {\n",
              "      display:flex;\n",
              "      flex-wrap:wrap;\n",
              "      gap: 12px;\n",
              "    }\n",
              "\n",
              "    .colab-df-convert {\n",
              "      background-color: #E8F0FE;\n",
              "      border: none;\n",
              "      border-radius: 50%;\n",
              "      cursor: pointer;\n",
              "      display: none;\n",
              "      fill: #1967D2;\n",
              "      height: 32px;\n",
              "      padding: 0 0 0 0;\n",
              "      width: 32px;\n",
              "    }\n",
              "\n",
              "    .colab-df-convert:hover {\n",
              "      background-color: #E2EBFA;\n",
              "      box-shadow: 0px 1px 2px rgba(60, 64, 67, 0.3), 0px 1px 3px 1px rgba(60, 64, 67, 0.15);\n",
              "      fill: #174EA6;\n",
              "    }\n",
              "\n",
              "    [theme=dark] .colab-df-convert {\n",
              "      background-color: #3B4455;\n",
              "      fill: #D2E3FC;\n",
              "    }\n",
              "\n",
              "    [theme=dark] .colab-df-convert:hover {\n",
              "      background-color: #434B5C;\n",
              "      box-shadow: 0px 1px 3px 1px rgba(0, 0, 0, 0.15);\n",
              "      filter: drop-shadow(0px 1px 2px rgba(0, 0, 0, 0.3));\n",
              "      fill: #FFFFFF;\n",
              "    }\n",
              "  </style>\n",
              "\n",
              "      <script>\n",
              "        const buttonEl =\n",
              "          document.querySelector('#df-f61545d3-92e3-4839-842d-326eff374c32 button.colab-df-convert');\n",
              "        buttonEl.style.display =\n",
              "          google.colab.kernel.accessAllowed ? 'block' : 'none';\n",
              "\n",
              "        async function convertToInteractive(key) {\n",
              "          const element = document.querySelector('#df-f61545d3-92e3-4839-842d-326eff374c32');\n",
              "          const dataTable =\n",
              "            await google.colab.kernel.invokeFunction('convertToInteractive',\n",
              "                                                     [key], {});\n",
              "          if (!dataTable) return;\n",
              "\n",
              "          const docLinkHtml = 'Like what you see? Visit the ' +\n",
              "            '<a target=\"_blank\" href=https://colab.research.google.com/notebooks/data_table.ipynb>data table notebook</a>'\n",
              "            + ' to learn more about interactive tables.';\n",
              "          element.innerHTML = '';\n",
              "          dataTable['output_type'] = 'display_data';\n",
              "          await google.colab.output.renderOutput(dataTable, element);\n",
              "          const docLink = document.createElement('div');\n",
              "          docLink.innerHTML = docLinkHtml;\n",
              "          element.appendChild(docLink);\n",
              "        }\n",
              "      </script>\n",
              "    </div>\n",
              "  </div>\n",
              "  "
            ],
            "text/plain": [
              "          userId  movieId  rating\n",
              "11928665  123687      163     4.0\n",
              "13042387  135533    55118     4.5\n",
              "70325        741     3499     4.0\n",
              "21293077  221195     4973     4.0\n",
              "5265200    54247    56286     3.0"
            ]
          },
          "execution_count": 15,
          "metadata": {},
          "output_type": "execute_result"
        }
      ],
      "source": [
        "train.head()"
      ]
    },
    {
      "cell_type": "markdown",
      "metadata": {
        "id": "rpAYOwTfFj2Z"
      },
      "source": [
        "## Convert data from explicit to implicit"
      ]
    },
    {
      "cell_type": "markdown",
      "metadata": {
        "id": "v1W9UrQUFsR9"
      },
      "source": [
        "Our data is in the form of explicit feedback which means every user has expressed how much he/she like a movie. In real life scenarios, User rarely rate , like or dislike what they see. Inorder to match our data with the problem I am trying to solve, I will consider that rating of the user as an interaction and give it value =1. For every movie interaction, I will assume 4 random movies that the user have seen but have't interacted with. I will also transform our rows into lists then into tensors to enable me use the model correctly."
      ]
    },
    {
      "cell_type": "code",
      "execution_count": null,
      "metadata": {
        "id": "XmRjLNxKFqp3"
      },
      "outputs": [],
      "source": [
        "import torch\n",
        "from tqdm import tqdm"
      ]
    },
    {
      "cell_type": "code",
      "execution_count": null,
      "metadata": {
        "id": "W-ZDcKehKhCF"
      },
      "outputs": [],
      "source": [
        "# Getting all movie IDs\n",
        "movieIDs = df['movieId'].unique()\n",
        "\n",
        "def forming_dataset(train,all_movies_IDs):\n",
        "\n",
        "  # Define list of users\n",
        "  users = []\n",
        "\n",
        "  # Define list of movie items\n",
        "  movie_items = []\n",
        "\n",
        "  # Define list of movie label (interaction =1 / no interaction = 0)\n",
        "  labels = []\n",
        "  ## For each row, I will zip userID and movie ID and save them in a set.(to make sure that there are no duplicates)\n",
        "  user_items = set(zip(train['userId'],train['movieId']))\n",
        "\n",
        "  # I used tqdm to show my progress bar\n",
        "  for user,item in tqdm(user_items) :\n",
        "    users.append(user)\n",
        "    movie_items.append(item)\n",
        "    labels.append(1)\n",
        "\n",
        "    # Now I will append for random negative movies for the current user\n",
        "    for i in range(4):\n",
        "      # Get a random movie from the list of movies IDs\n",
        "      negative_movie = np.random.choice(all_movies_IDs)\n",
        "\n",
        "      # search of another movie if the user have already interacted with this movie\n",
        "      while (user , negative_movie) in user_items:\n",
        "        negative_movie = np.random.choice(all_movies_IDs)\n",
        "      \n",
        "      # Append negative movie after checking that the user have interacted with\n",
        "      users.append(user)\n",
        "      movie_items.append(negative_movie)\n",
        "      labels.append(0)\n",
        "  \n",
        "  # Return our list in the form of tensor array\n",
        "  return torch.tensor(users) , torch.tensor(movie_items) , torch.tensor(labels)"
      ]
    },
    {
      "cell_type": "code",
      "execution_count": null,
      "metadata": {
        "colab": {
          "base_uri": "https://localhost:8080/"
        },
        "id": "LySasG5UVukW",
        "outputId": "e39df088-6cc6-4c46-f749-3156df9317bf"
      },
      "outputs": [
        {
          "name": "stderr",
          "output_type": "stream",
          "text": [
            "100%|██████████| 1608844/1608844 [01:59<00:00, 13463.09it/s]\n"
          ]
        }
      ],
      "source": [
        "t1 , t2 , t3 = forming_dataset(train, movieIDs)"
      ]
    },
    {
      "cell_type": "markdown",
      "metadata": {
        "id": "llJTOCWNnm0b"
      },
      "source": [
        "#### Save tensors into my drive"
      ]
    },
    {
      "cell_type": "code",
      "execution_count": null,
      "metadata": {
        "id": "dmnoSmjFr-p5"
      },
      "outputs": [],
      "source": [
        "import torch\n",
        "from tqdm import tqdm"
      ]
    },
    {
      "cell_type": "code",
      "execution_count": null,
      "metadata": {
        "id": "6YvU2wVkmc0v"
      },
      "outputs": [],
      "source": [
        "torch.save(t1,\"User_tensor.t\")\n",
        "torch.save(t2,\"Movie_tensor.t\")\n",
        "torch.save(t3,\"Label_tensor.t\")"
      ]
    },
    {
      "cell_type": "markdown",
      "metadata": {
        "id": "EtzTMi-EmWDR"
      },
      "source": [
        "## Pytorch Model"
      ]
    },
    {
      "cell_type": "markdown",
      "metadata": {
        "id": "oaA155uIoo6r"
      },
      "source": [
        "### Reading pre-saved tensors from my drive"
      ]
    },
    {
      "cell_type": "code",
      "execution_count": null,
      "metadata": {
        "colab": {
          "base_uri": "https://localhost:8080/"
        },
        "id": "rfY1V88_qH-E",
        "outputId": "170a56f0-8966-41b5-e42b-2f959e9b6d27"
      },
      "outputs": [
        {
          "name": "stdout",
          "output_type": "stream",
          "text": [
            "Installing collected packages: multidict, lightning-utilities, frozenlist, async-timeout, yarl, torchmetrics, aiosignal, aiohttp, pytorch_lightning\n",
            "Successfully installed aiohttp-3.8.4 aiosignal-1.3.1 async-timeout-4.0.2 frozenlist-1.3.3 lightning-utilities-0.8.0 multidict-6.0.4 pytorch_lightning-2.0.1 torchmetrics-0.11.4 yarl-1.8.2\n"
          ]
        }
      ],
      "source": [
        "! pip install pytorch_lightning"
      ]
    },
    {
      "cell_type": "code",
      "execution_count": null,
      "metadata": {
        "id": "TkNMcmVPz1_U"
      },
      "outputs": [],
      "source": [
        "! pip install torchmetrics"
      ]
    },
    {
      "cell_type": "code",
      "execution_count": null,
      "metadata": {
        "id": "6nZT5XUp9w3i"
      },
      "outputs": [],
      "source": [
        "import torch.nn as nn\n",
        "import pytorch_lightning as pl\n",
        "import torch\n",
        "from torch.utils.data import DataLoader\n",
        "import torchmetrics\n",
        "from tqdm import tqdm"
      ]
    },
    {
      "cell_type": "code",
      "execution_count": null,
      "metadata": {
        "id": "iXeMrt96ncav"
      },
      "outputs": [],
      "source": [
        "user_tensor = torch.load('User_tensor.t')\n",
        "movie_tensor = torch.load('Movie_tensor.t')\n",
        "label_tensor = torch.load('Label_tensor.t')"
      ]
    },
    {
      "cell_type": "markdown",
      "metadata": {
        "id": "KYYQwYE2Ed09"
      },
      "source": [
        "#### Will build our model in the form of a class as recommended by the documentation of pytorch lighting"
      ]
    },
    {
      "cell_type": "code",
      "execution_count": null,
      "metadata": {
        "id": "84vNvWEPZEMP"
      },
      "outputs": [],
      "source": [
        "class recommender_model(pl.LightningModule):\n",
        "  def __init__(self, total_users , total_movies ):\n",
        "    super().__init__()\n",
        "    # Initating user embedding layer. It takes the dimension of the existing layer as num_embedding and embedding_dim refers to the dimension of the output we want from this layer\n",
        "    self.userEmbedding = nn.Embedding(num_embeddings=total_users , embedding_dim=16)  \n",
        "    self.movieEmbedding = nn.Embedding(num_embeddings=total_movies , embedding_dim=16)\n",
        "    self.model_seq = nn.Sequential(\n",
        "        nn.Linear(in_features=32 , out_features=64),\n",
        "        nn.ReLU(),\n",
        "        nn.Linear(in_features=64, out_features=32),\n",
        "        nn.ReLU(),\n",
        "        nn.Linear(in_features=32,out_features=1),\n",
        "        nn.Sigmoid()\n",
        "    )\n",
        "    self.accuracy = torchmetrics.Accuracy(task=\"binary\")\n",
        "\n",
        "  def forward(self, users , movies):\n",
        "    embedded_user = self.userEmbedding(users)\n",
        "    embedded_movie = self.movieEmbedding(movies)\n",
        "    vector = torch.cat([embedded_user , embedded_movie],dim=1)\n",
        "    return self.model_seq(vector)\n",
        "  \n",
        "  def training_step(self , batch , batch_idx):\n",
        "    users , movies , labels = batch\n",
        "    predicted_labels = self(users,movies)\n",
        "    loss = nn.BCELoss()(predicted_labels, labels.view(-1,1).float())\n",
        "    self.log(\"my_loss\", loss, on_step=True, on_epoch=True, prog_bar=True, logger=True)\n",
        "    self.log('train_acc_step', self.accuracy(predicted_labels,labels.view(-1,1).float()))\n",
        "    return loss\n",
        "  \n",
        "  def configure_optimizers(self):\n",
        "    return torch.optim.Adagrad(model.parameters(), lr = 0.1)\n",
        "  \n",
        "  def train_dataloader(self):\n",
        "    return DataLoader((user_tensor,movie_tensor,label_tensor), batch_size=200 , num_workers=2)"
      ]
    },
    {
      "cell_type": "code",
      "execution_count": null,
      "metadata": {
        "id": "z_Ca2mr1TrXO"
      },
      "outputs": [],
      "source": [
        "total_users = ratings['userId'].max()+1\n",
        "total_movies =  ratings['movieId'].max()+1\n",
        "model = recommender_model(total_users,total_movies).to('cpu')"
      ]
    },
    {
      "cell_type": "code",
      "execution_count": null,
      "metadata": {
        "id": "kEXz1yJe4pxz"
      },
      "outputs": [],
      "source": [
        "trainer = pl.Trainer(max_epochs = 80,reload_dataloaders_every_n_epochs=True )\n",
        "trainer.fit(model)"
      ]
    },
    {
      "cell_type": "code",
      "execution_count": null,
      "metadata": {
        "colab": {
          "base_uri": "https://localhost:8080/"
        },
        "id": "O-COpLFWjT1P",
        "outputId": "a5fe0299-dfc9-4ddf-cae1-14455b54c5df"
      },
      "outputs": [
        {
          "data": {
            "text/plain": [
              "recommender_model(\n",
              "  (userEmbedding): Embedding(270897, 16)\n",
              "  (movieEmbedding): Embedding(176264, 16)\n",
              "  (model_seq): Sequential(\n",
              "    (0): Linear(in_features=32, out_features=64, bias=True)\n",
              "    (1): ReLU()\n",
              "    (2): Linear(in_features=64, out_features=32, bias=True)\n",
              "    (3): ReLU()\n",
              "    (4): Linear(in_features=32, out_features=1, bias=True)\n",
              "    (5): Sigmoid()\n",
              "  )\n",
              "  (accuracy): BinaryAccuracy()\n",
              ")"
            ]
          },
          "execution_count": 18,
          "metadata": {},
          "output_type": "execute_result"
        }
      ],
      "source": [
        "model.eval()"
      ]
    },
    {
      "cell_type": "markdown",
      "metadata": {
        "id": "85GtcRbRJTyv"
      },
      "source": [
        "### Save model"
      ]
    },
    {
      "cell_type": "code",
      "execution_count": null,
      "metadata": {
        "id": "Lu5IVypVJWKi"
      },
      "outputs": [],
      "source": [
        "trainer.save_checkpoint(\"model.ckpt\")\n",
        "torch.save(model, 'model.pth')\n",
        "torch.save(model.state_dict(),'model2.h5') "
      ]
    },
    {
      "cell_type": "markdown",
      "metadata": {
        "id": "cJ2lAcGPzc46"
      },
      "source": [
        "## Evaluating model using Hit Ratio @10"
      ]
    },
    {
      "cell_type": "markdown",
      "metadata": {
        "id": "pwsa-cQDzmUA"
      },
      "source": [
        "1. For each User, I will combine 99 movies that the user haven't interacted with.\n",
        "2. Then, I will Add the test Movie that I have for that user.\n",
        "3. Now , The model have 100 movies. I will select top 10 movies for that user. if our test movie included in them , we assume this as a hit.\n",
        "4. Calculate hit for all test user.\n",
        "5. Finally hit ratio will be the average of all hits."
      ]
    },
    {
      "cell_type": "code",
      "execution_count": null,
      "metadata": {
        "id": "7ePe9E_aJSMK"
      },
      "outputs": [],
      "source": [
        "df = pd.read_csv(\"ratings.csv\")\n",
        "df = df.sample(frac=0.07 , random_state=42)"
      ]
    },
    {
      "cell_type": "code",
      "execution_count": null,
      "metadata": {
        "id": "uAOgY5xlH9jf"
      },
      "outputs": [],
      "source": [
        "test = pd.read_csv(\"test.csv\")"
      ]
    },
    {
      "cell_type": "code",
      "execution_count": null,
      "metadata": {
        "id": "Ut43oPcLx_0H"
      },
      "outputs": [],
      "source": [
        "test_user_set = zip(test['userId'],test['movieId'])\n",
        "users_interacted_movies = df.groupby('userId')['movieId'].apply(list).to_dict() # Return a dict of userId as key , interacted movies as values for each key"
      ]
    },
    {
      "cell_type": "code",
      "execution_count": null,
      "metadata": {
        "id": "8g0F6AwaLSW6"
      },
      "outputs": [],
      "source": [
        "all_movies = df['movieId'].unique()\n",
        "hits = []\n",
        "for user , item in tqdm(test_user_set):\n",
        "  interacted_movies = users_interacted_movies[user]   # give user as a key and get a list of interacted movies as output\n",
        "  non_interacted_movies = set(all_movies) - set(interacted_movies)  # Return the difference between the two sets\n",
        "  random_non_interacted = list(np.random.choice(list(non_interacted_movies),99))\n",
        "  test_movies = random_non_interacted + [item]  # concat list of 99 random non interacted movies and list of interacted item-----total =>100 item\n",
        "  predicted_labels = np.squeeze(model(torch.tensor([user]*100), torch.tensor(test_movies)).detach().numpy())\n",
        "  top_10 = [test_movies[i] for i in np.argsort(predicted_labels)[::-1][0:10].tolist()]\n",
        "  if item in top_10:\n",
        "    hits.append(1)\n",
        "  else:\n",
        "    hits.append(0)"
      ]
    },
    {
      "cell_type": "code",
      "execution_count": null,
      "metadata": {
        "colab": {
          "base_uri": "https://localhost:8080/"
        },
        "id": "HVFz9LiSSMcX",
        "outputId": "8cd09511-5419-41cc-bda6-de4fcf80f58d"
      },
      "outputs": [
        {
          "name": "stdout",
          "output_type": "stream",
          "text": [
            "Hit Ratio of our model is  84.51817190964783\n"
          ]
        }
      ],
      "source": [
        "print(\"Hit Ratio of our model is \", np.average(hits)*100)"
      ]
    },
    {
      "cell_type": "markdown",
      "metadata": {
        "id": "3YLkiCXzBq6R"
      },
      "source": [
        "## Streamlit"
      ]
    },
    {
      "cell_type": "code",
      "execution_count": null,
      "metadata": {
        "colab": {
          "base_uri": "https://localhost:8080/"
        },
        "id": "W3QmD8ssFb2h",
        "outputId": "99f71d08-fbf2-49c6-f936-5a2fdd9d741d"
      },
      "outputs": [],
      "source": [
        "! pip install streamlit"
      ]
    },
    {
      "cell_type": "code",
      "execution_count": null,
      "metadata": {
        "id": "gIo4IQVi7zwb"
      },
      "outputs": [],
      "source": [
        "! pip install pytorch_lightning"
      ]
    },
    {
      "cell_type": "code",
      "execution_count": null,
      "metadata": {
        "colab": {
          "base_uri": "https://localhost:8080/"
        },
        "id": "E3MzuGFABv6k",
        "outputId": "feacbb4e-c132-4d2b-decd-474ee1d4646c"
      },
      "outputs": [
        {
          "name": "stdout",
          "output_type": "stream",
          "text": [
            "Overwriting test.py\n"
          ]
        }
      ],
      "source": [
        "%%writefile test.py\n",
        "import pandas as pd\n",
        "import numpy as np\n",
        "import streamlit as st\n",
        "import torch.nn as nn\n",
        "import pytorch_lightning as pl\n",
        "import torch\n",
        "import torchmetrics\n",
        "\n",
        "ratings = pd.read_csv(\"ratings.csv\")\n",
        "movies = pd.read_csv(\"merged_movies_IDs.csv\")\n",
        "\n",
        "\n",
        "#----------------------------Header and Title----------------------------------\n",
        "header = \"\"\"\n",
        "<center>\n",
        "  <h1 style=\"border-radius: 25px;background: #cff2b8;padding: 20px;width: 100% ;height: 75px;color:white;\">Welcome to Movieta\n",
        "  </h1>\n",
        "  <h3> Your Ultimate Movie Recommendation System Guide </h3>\n",
        "  </center>\n",
        "\"\"\"\n",
        "st.markdown(header,unsafe_allow_html=True)\n",
        "#---------------------------- Load Model --------------------------------------\n",
        "\n",
        "\n",
        "class recommender_model(pl.LightningModule):\n",
        "  def __init__(self, total_users , total_movies ):\n",
        "    super().__init__()\n",
        "    self.userEmbedding = nn.Embedding(num_embeddings=total_users , embedding_dim=16)  \n",
        "    self.movieEmbedding = nn.Embedding(num_embeddings=total_movies , embedding_dim=16)\n",
        "    self.model_seq = nn.Sequential(\n",
        "        nn.Linear(in_features=32 , out_features=64),\n",
        "        nn.ReLU(),\n",
        "        nn.Linear(in_features=64, out_features=32),\n",
        "        nn.ReLU(),\n",
        "        nn.Linear(in_features=32,out_features=1),\n",
        "        nn.Sigmoid()\n",
        "    )\n",
        "    self.accuracy = torchmetrics.Accuracy(task=\"binary\")\n",
        "\n",
        "  def forward(self, users , movies):\n",
        "    embedded_user = self.userEmbedding(users)\n",
        "    embedded_movie = self.movieEmbedding(movies)\n",
        "    vector = torch.cat([embedded_user , embedded_movie],dim=1)\n",
        "    return self.model_seq(vector)\n",
        "  \n",
        "  def training_step(self , batch , batch_idx):\n",
        "    users , movies , labels = batch\n",
        "    predicted_labels = self(users,movies)\n",
        "    loss = nn.BCELoss()(predicted_labels, labels.view(-1,1).float())\n",
        "    self.log(\"my_loss\", loss, on_step=True, on_epoch=True, prog_bar=True, logger=True)\n",
        "    self.log('train_acc_step', self.accuracy(predicted_labels,labels.view(-1,1).float()))\n",
        "    return loss\n",
        "\n",
        "#---------------------------- Prediction --------------------------------------\n",
        "def prediction(interacted_movies):\n",
        "  # Preparing Data\n",
        "  all_rated_movies = ratings['movieId'].unique()\n",
        "  # Creating temp ID for the user\n",
        "  user_id = 29958\n",
        "  non_interacted_movies = set(all_rated_movies) - set(interacted_movies) \n",
        "  random_non_interacted = list(set(np.random.choice(list(non_interacted_movies),1500)))\n",
        "  random_non_interacted.extend(interacted_movies) \n",
        "  user_movies = random_non_interacted\n",
        "\n",
        "  # Preducting output\n",
        "  model = recommender_model(270897,176264)\n",
        "  model.load_state_dict(torch.load('model2.h5'))\n",
        "  predicted_labels = np.squeeze(model(torch.tensor([user_id]*len(user_movies)), torch.tensor(user_movies)).detach().numpy())\n",
        "  top_50 = [user_movies[i] for i in np.argsort(predicted_labels)[::-1][0:50].tolist() if i not in interacted_movies]\n",
        "  top_50_movies = []\n",
        "  for i in top_50:\n",
        "    try:\n",
        "      i=np.int32(i).item()\n",
        "      if i in interacted_movies:\n",
        "        continue\n",
        "      top_50_movies.append(i)\n",
        "    except:\n",
        "      pass\n",
        "  return top_50_movies\n",
        "\n",
        "# ----------------------Showing demo movies-------------------------------------\n",
        "def title_movie(name):\n",
        "   return st.markdown(f'''\n",
        "   <h4 style=\"font-family:Consolas; font-size:1.5rem;\">{name}</h4>\n",
        "   ''', unsafe_allow_html=True)\n",
        " \n",
        "def show_movies(movie_samples):\n",
        "  cols = st.columns(3)\n",
        "  for i in range(4):\n",
        "    with st.container():\n",
        "      for j in range(3):\n",
        "        with cols[j]:\n",
        "          movie = movie_samples.iloc[i*3+j]\n",
        "          title_movie(movie['original_title'])\n",
        "          \n",
        "          st.image(movie['poster_path'])\n",
        "          overview = movie['overview']\n",
        "          if len(str(overview)) > 140:\n",
        "            st.write(overview[:140])\n",
        "          else:\n",
        "            st.write(overview)\n",
        "          st.markdown(movie['vote_average'])\n",
        "\n",
        "tmdb_movies_name = movies['original_title'].unique()\n",
        "user_list = []\n",
        "top_movies=[]\n",
        "def main():\n",
        "  movie_samples = movies.sample(12, random_state=3)\n",
        "  show_movies(movie_samples)\n",
        "\n",
        "  options = st.multiselect(\"Select multiple movies \",tmdb_movies_name)\n",
        "  st.write('You selected:', options)\n",
        "  predict = st.button(\"Predict\")\n",
        "  if predict:\n",
        "    for idx , item in enumerate(options):\n",
        "      movie_id = movies[movies['original_title']==item]['movieId'].values[0]\n",
        "      user_list.append(movie_id)\n",
        "    top_movies = prediction(user_list)\n",
        "    st.header(\"Movieta recommends you:\")\n",
        "    show_movies(movies[movies['movieId'].isin(top_movies)])\n",
        "      \n",
        "\n",
        "\n",
        "# --------------remove header icon and streamlit footer-------------------------\n",
        "hide_default_format = \"\"\"\n",
        "       <style>\n",
        "       #MainMenu {visibility: hidden; }\n",
        "       footer {visibility: hidden;}\n",
        "       </style>\n",
        "       \"\"\"\n",
        "st.markdown(hide_default_format, unsafe_allow_html=True)\n",
        "if __name__=='__main__':\n",
        "    main()    \n"
      ]
    },
    {
      "cell_type": "code",
      "execution_count": null,
      "metadata": {
        "colab": {
          "base_uri": "https://localhost:8080/"
        },
        "id": "U-n1gc5bFZmM",
        "outputId": "031c72d3-b65b-413d-bf86-a6eb63ee6fc3"
      },
      "outputs": [
        {
          "name": "stdout",
          "output_type": "stream",
          "text": [
            "\u001b[K\u001b[?25hnpx: installed 22 in 2.322s\n",
            "\n",
            "Collecting usage statistics. To deactivate, set browser.gatherUsageStats to False.\n",
            "\u001b[0m\n",
            "your url is: https://modern-taxes-report-34-125-95-217.loca.lt\n",
            "\u001b[0m\n",
            "\u001b[34m\u001b[1m  You can now view your Streamlit app in your browser.\u001b[0m\n",
            "\u001b[0m\n",
            "\u001b[34m  Network URL: \u001b[0m\u001b[1mhttp://172.28.0.12:8501\u001b[0m\n",
            "\u001b[34m  External URL: \u001b[0m\u001b[1mhttp://34.125.95.217:8501\u001b[0m\n",
            "\u001b[0m\n",
            "2023-04-03 12:19:33.136 Created a temporary directory at /tmp/tmp31zbg4we\n",
            "2023-04-03 12:19:33.136 Writing /tmp/tmp31zbg4we/_remote_module_non_scriptable.py\n",
            "\u001b[34m  Stopping...\u001b[0m\n",
            "^C\n"
          ]
        }
      ],
      "source": [
        "! streamlit run test.py & npx localtunnel --port 8501"
      ]
    }
  ],
  "metadata": {
    "accelerator": "GPU",
    "colab": {
      "collapsed_sections": [
        "3NYNIWhX3d-N",
        "A56SkCXj3zXV",
        "v41VamJI4pg1",
        "hmiczjfM88Io",
        "7wEkcLX_d0Kc",
        "pCcob3vr4y7s",
        "YYhEN-1CjcNy",
        "nvS68qZwjhwi",
        "hVqVqIfej3UR"
      ],
      "provenance": []
    },
    "gpuClass": "standard",
    "kernelspec": {
      "display_name": "Python 3",
      "name": "python3"
    },
    "language_info": {
      "name": "python"
    }
  },
  "nbformat": 4,
  "nbformat_minor": 0
}
